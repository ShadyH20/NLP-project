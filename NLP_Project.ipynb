{
  "nbformat": 4,
  "nbformat_minor": 0,
  "metadata": {
    "colab": {
      "provenance": [],
      "include_colab_link": true
    },
    "kernelspec": {
      "name": "python3",
      "display_name": "Python 3"
    },
    "language_info": {
      "name": "python"
    }
  },
  "cells": [
    {
      "cell_type": "markdown",
      "metadata": {
        "id": "view-in-github",
        "colab_type": "text"
      },
      "source": [
        "<a href=\"https://colab.research.google.com/github/ShadyH20/NLP-project/blob/main/NLP_Project.ipynb\" target=\"_parent\"><img src=\"https://colab.research.google.com/assets/colab-badge.svg\" alt=\"Open In Colab\"/></a>"
      ]
    },
    {
      "cell_type": "markdown",
      "source": [
        "NLP Project Steps\n",
        "\n",
        "1. Data Loading\n",
        "\t- Subset the data, any channel or episode elimination\n",
        "\t- Format into tables:\n",
        "\t\t- Channel, Episode Title, Metadata...?\n",
        "\t\t- Column lel original sentences 'Orig'\n",
        "\t\t- Column lel processed sentences 'Proc'\n",
        "\n",
        "2. Analysis on Orig\n",
        "\tChannel Analysis:\n",
        "\t- avg length / duration of episodes per channel\n",
        "\t- modal categories per channel, Category / class imbalance\n",
        "\t- etc\n",
        "\t- metdata analysis\n",
        "\t- Text Charactertistics (formal / informal... dialogue?)\n",
        "\tNLP Analysis:\n",
        "\t- Text Sampling\n",
        "\t- Text Statistics (word count, sentence length...)\n",
        "\n",
        "2. Preprocessing (Proc Column)\n",
        "\t- Punctuation, Symbols, Numbers, Diactritics (tashkeel) removal\n",
        "\t- Tokenization\n",
        "\t- Stemming / lemmatization?\n",
        "\t- Normalization of Arabic letters\n",
        "\t- Code switching handling? Translation? What about abbreviations?\n",
        "\n",
        "4. Analysis (On Proc) 1\n",
        "\t- Text Sampling\n",
        "\t- Text Visualizations\n",
        "\t- Missing data / nulls -> metadata\n",
        "\t- Noise and Outlier Detection (excluding non arabic words if any)\n",
        "\t- Frequency Distribution per category (to show distortion because of stop words)\n",
        "\n",
        "5. Preprocessing (Proc Column)\n",
        "\t- Missing data imputation\n",
        "\t- Handle noise and outliers\n",
        "\t- Stop word removal\n",
        "\n",
        "6. Analysis (On Proc) 2\n",
        "\t- Text Sampling\n",
        "\t- Text Visualizations\n",
        "\t- Frequency Distribution per category (! extracts important words per category? weighted words?)\n",
        "\n",
        "7. Data Preparation\n",
        "\t- Category selection? Handle Class Imbalance\n",
        "\t- Feature extraction (bag of words, TF-IDF, word embeddings / vectorization)\n",
        "\t- Encoding\n",
        "\t- Data splitting\n",
        "\n",
        "8. Classification / Clustering Algorithm\n",
        "\n",
        "9. Testing\n",
        "\n"
      ],
      "metadata": {
        "id": "9wXXx9dMoXbA"
      }
    },
    {
      "cell_type": "code",
      "execution_count": null,
      "metadata": {
        "id": "8BS8I-FnoSI0"
      },
      "outputs": [],
      "source": []
    }
  ]
}