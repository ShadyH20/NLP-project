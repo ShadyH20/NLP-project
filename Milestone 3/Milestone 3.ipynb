{
 "cells": [
  {
   "cell_type": "markdown",
   "metadata": {},
   "source": [
    "# SQuAD v2.0 Experiments: Comparing Different Models in RAG Systems\n",
    "\n",
    "This notebook implements two experiments with SQuAD v2.0 dataset using Retrieval-Augmented Generation (RAG):\n",
    "1. RAG with a SQuAD-pretrained model: `deepset/roberta-base-squad2`\n",
    "2. RAG with a general model (not pretrained on SQuAD v2.0): `bert-large-uncased-whole-word-masking-finetuned-squad`\n",
    "\n",
    "We'll evaluate both approaches using the SQuAD validation set and compute various metrics including F1, BLEU, and ROUGE scores."
   ]
  },
  {
   "cell_type": "markdown",
   "metadata": {},
   "source": [
    "## 1. Setup and Dependencies"
   ]
  },
  {
   "cell_type": "code",
   "execution_count": 1,
   "metadata": {
    "execution": {
     "iopub.execute_input": "2025-05-19T14:43:45.291627Z",
     "iopub.status.busy": "2025-05-19T14:43:45.290932Z",
     "iopub.status.idle": "2025-05-19T14:43:49.375051Z",
     "shell.execute_reply": "2025-05-19T14:43:49.374322Z",
     "shell.execute_reply.started": "2025-05-19T14:43:45.291602Z"
    },
    "trusted": true
   },
   "outputs": [
    {
     "name": "stdout",
     "output_type": "stream",
     "text": [
      "Requirement already satisfied: transformers in /usr/local/lib/python3.11/dist-packages (4.51.3)\n",
      "Requirement already satisfied: datasets in /usr/local/lib/python3.11/dist-packages (3.6.0)\n",
      "Requirement already satisfied: sentence-transformers in /usr/local/lib/python3.11/dist-packages (3.4.1)\n",
      "Requirement already satisfied: faiss-cpu in /usr/local/lib/python3.11/dist-packages (1.11.0)\n",
      "Requirement already satisfied: langchain in /usr/local/lib/python3.11/dist-packages (0.3.25)\n",
      "Requirement already satisfied: langchain-community in /usr/local/lib/python3.11/dist-packages (0.3.24)\n",
      "Requirement already satisfied: nltk in /usr/local/lib/python3.11/dist-packages (3.9.1)\n",
      "Requirement already satisfied: rouge-score in /usr/local/lib/python3.11/dist-packages (0.1.2)\n",
      "Requirement already satisfied: sacrebleu in /usr/local/lib/python3.11/dist-packages (2.5.1)\n",
      "Requirement already satisfied: torch in /usr/local/lib/python3.11/dist-packages (2.6.0+cu124)\n",
      "Requirement already satisfied: spacy in /usr/local/lib/python3.11/dist-packages (3.8.5)\n",
      "Requirement already satisfied: tqdm in /usr/local/lib/python3.11/dist-packages (4.67.1)\n",
      "Requirement already satisfied: matplotlib in /usr/local/lib/python3.11/dist-packages (3.7.2)\n",
      "Requirement already satisfied: seaborn in /usr/local/lib/python3.11/dist-packages (0.12.2)\n",
      "Requirement already satisfied: filelock in /usr/local/lib/python3.11/dist-packages (from transformers) (3.18.0)\n",
      "Requirement already satisfied: huggingface-hub<1.0,>=0.30.0 in /usr/local/lib/python3.11/dist-packages (from transformers) (0.31.1)\n",
      "Requirement already satisfied: numpy>=1.17 in /usr/local/lib/python3.11/dist-packages (from transformers) (1.26.4)\n",
      "Requirement already satisfied: packaging>=20.0 in /usr/local/lib/python3.11/dist-packages (from transformers) (24.2)\n",
      "Requirement already satisfied: pyyaml>=5.1 in /usr/local/lib/python3.11/dist-packages (from transformers) (6.0.2)\n",
      "Requirement already satisfied: regex!=2019.12.17 in /usr/local/lib/python3.11/dist-packages (from transformers) (2024.11.6)\n",
      "Requirement already satisfied: requests in /usr/local/lib/python3.11/dist-packages (from transformers) (2.32.3)\n",
      "Requirement already satisfied: tokenizers<0.22,>=0.21 in /usr/local/lib/python3.11/dist-packages (from transformers) (0.21.1)\n",
      "Requirement already satisfied: safetensors>=0.4.3 in /usr/local/lib/python3.11/dist-packages (from transformers) (0.5.3)\n",
      "Requirement already satisfied: pyarrow>=15.0.0 in /usr/local/lib/python3.11/dist-packages (from datasets) (19.0.1)\n",
      "Requirement already satisfied: dill<0.3.9,>=0.3.0 in /usr/local/lib/python3.11/dist-packages (from datasets) (0.3.8)\n",
      "Requirement already satisfied: pandas in /usr/local/lib/python3.11/dist-packages (from datasets) (2.2.3)\n",
      "Requirement already satisfied: xxhash in /usr/local/lib/python3.11/dist-packages (from datasets) (3.5.0)\n",
      "Requirement already satisfied: multiprocess<0.70.17 in /usr/local/lib/python3.11/dist-packages (from datasets) (0.70.16)\n",
      "Requirement already satisfied: fsspec<=2025.3.0,>=2023.1.0 in /usr/local/lib/python3.11/dist-packages (from fsspec[http]<=2025.3.0,>=2023.1.0->datasets) (2025.3.0)\n",
      "Requirement already satisfied: scikit-learn in /usr/local/lib/python3.11/dist-packages (from sentence-transformers) (1.2.2)\n",
      "Requirement already satisfied: scipy in /usr/local/lib/python3.11/dist-packages (from sentence-transformers) (1.15.2)\n",
      "Requirement already satisfied: Pillow in /usr/local/lib/python3.11/dist-packages (from sentence-transformers) (11.1.0)\n",
      "Requirement already satisfied: langchain-core<1.0.0,>=0.3.58 in /usr/local/lib/python3.11/dist-packages (from langchain) (0.3.60)\n",
      "Requirement already satisfied: langchain-text-splitters<1.0.0,>=0.3.8 in /usr/local/lib/python3.11/dist-packages (from langchain) (0.3.8)\n",
      "Requirement already satisfied: langsmith<0.4,>=0.1.17 in /usr/local/lib/python3.11/dist-packages (from langchain) (0.3.23)\n",
      "Requirement already satisfied: pydantic<3.0.0,>=2.7.4 in /usr/local/lib/python3.11/dist-packages (from langchain) (2.11.4)\n",
      "Requirement already satisfied: SQLAlchemy<3,>=1.4 in /usr/local/lib/python3.11/dist-packages (from langchain) (2.0.40)\n",
      "Requirement already satisfied: aiohttp<4.0.0,>=3.8.3 in /usr/local/lib/python3.11/dist-packages (from langchain-community) (3.11.18)\n",
      "Requirement already satisfied: tenacity!=8.4.0,<10,>=8.1.0 in /usr/local/lib/python3.11/dist-packages (from langchain-community) (9.1.2)\n",
      "Requirement already satisfied: dataclasses-json<0.7,>=0.5.7 in /usr/local/lib/python3.11/dist-packages (from langchain-community) (0.6.7)\n",
      "Requirement already satisfied: pydantic-settings<3.0.0,>=2.4.0 in /usr/local/lib/python3.11/dist-packages (from langchain-community) (2.9.1)\n",
      "Requirement already satisfied: httpx-sse<1.0.0,>=0.4.0 in /usr/local/lib/python3.11/dist-packages (from langchain-community) (0.4.0)\n",
      "Requirement already satisfied: click in /usr/local/lib/python3.11/dist-packages (from nltk) (8.1.8)\n",
      "Requirement already satisfied: joblib in /usr/local/lib/python3.11/dist-packages (from nltk) (1.5.0)\n",
      "Requirement already satisfied: absl-py in /usr/local/lib/python3.11/dist-packages (from rouge-score) (1.4.0)\n",
      "Requirement already satisfied: six>=1.14.0 in /usr/local/lib/python3.11/dist-packages (from rouge-score) (1.17.0)\n",
      "Requirement already satisfied: portalocker in /usr/local/lib/python3.11/dist-packages (from sacrebleu) (3.1.1)\n",
      "Requirement already satisfied: tabulate>=0.8.9 in /usr/local/lib/python3.11/dist-packages (from sacrebleu) (0.9.0)\n",
      "Requirement already satisfied: colorama in /usr/local/lib/python3.11/dist-packages (from sacrebleu) (0.4.6)\n",
      "Requirement already satisfied: lxml in /usr/local/lib/python3.11/dist-packages (from sacrebleu) (5.3.1)\n",
      "Requirement already satisfied: typing-extensions>=4.10.0 in /usr/local/lib/python3.11/dist-packages (from torch) (4.13.2)\n",
      "Requirement already satisfied: networkx in /usr/local/lib/python3.11/dist-packages (from torch) (3.4.2)\n",
      "Requirement already satisfied: jinja2 in /usr/local/lib/python3.11/dist-packages (from torch) (3.1.6)\n",
      "Requirement already satisfied: nvidia-cuda-nvrtc-cu12==12.4.127 in /usr/local/lib/python3.11/dist-packages (from torch) (12.4.127)\n",
      "Requirement already satisfied: nvidia-cuda-runtime-cu12==12.4.127 in /usr/local/lib/python3.11/dist-packages (from torch) (12.4.127)\n",
      "Requirement already satisfied: nvidia-cuda-cupti-cu12==12.4.127 in /usr/local/lib/python3.11/dist-packages (from torch) (12.4.127)\n",
      "Requirement already satisfied: nvidia-cudnn-cu12==9.1.0.70 in /usr/local/lib/python3.11/dist-packages (from torch) (9.1.0.70)\n",
      "Requirement already satisfied: nvidia-cublas-cu12==12.4.5.8 in /usr/local/lib/python3.11/dist-packages (from torch) (12.4.5.8)\n",
      "Requirement already satisfied: nvidia-cufft-cu12==11.2.1.3 in /usr/local/lib/python3.11/dist-packages (from torch) (11.2.1.3)\n",
      "Requirement already satisfied: nvidia-curand-cu12==10.3.5.147 in /usr/local/lib/python3.11/dist-packages (from torch) (10.3.5.147)\n",
      "Requirement already satisfied: nvidia-cusolver-cu12==11.6.1.9 in /usr/local/lib/python3.11/dist-packages (from torch) (11.6.1.9)\n",
      "Requirement already satisfied: nvidia-cusparse-cu12==12.3.1.170 in /usr/local/lib/python3.11/dist-packages (from torch) (12.3.1.170)\n",
      "Requirement already satisfied: nvidia-cusparselt-cu12==0.6.2 in /usr/local/lib/python3.11/dist-packages (from torch) (0.6.2)\n",
      "Requirement already satisfied: nvidia-nccl-cu12==2.21.5 in /usr/local/lib/python3.11/dist-packages (from torch) (2.21.5)\n",
      "Requirement already satisfied: nvidia-nvtx-cu12==12.4.127 in /usr/local/lib/python3.11/dist-packages (from torch) (12.4.127)\n",
      "Requirement already satisfied: nvidia-nvjitlink-cu12==12.4.127 in /usr/local/lib/python3.11/dist-packages (from torch) (12.4.127)\n",
      "Requirement already satisfied: triton==3.2.0 in /usr/local/lib/python3.11/dist-packages (from torch) (3.2.0)\n",
      "Requirement already satisfied: sympy==1.13.1 in /usr/local/lib/python3.11/dist-packages (from torch) (1.13.1)\n",
      "Requirement already satisfied: mpmath<1.4,>=1.1.0 in /usr/local/lib/python3.11/dist-packages (from sympy==1.13.1->torch) (1.3.0)\n",
      "Requirement already satisfied: spacy-legacy<3.1.0,>=3.0.11 in /usr/local/lib/python3.11/dist-packages (from spacy) (3.0.12)\n",
      "Requirement already satisfied: spacy-loggers<2.0.0,>=1.0.0 in /usr/local/lib/python3.11/dist-packages (from spacy) (1.0.5)\n",
      "Requirement already satisfied: murmurhash<1.1.0,>=0.28.0 in /usr/local/lib/python3.11/dist-packages (from spacy) (1.0.12)\n",
      "Requirement already satisfied: cymem<2.1.0,>=2.0.2 in /usr/local/lib/python3.11/dist-packages (from spacy) (2.0.11)\n",
      "Requirement already satisfied: preshed<3.1.0,>=3.0.2 in /usr/local/lib/python3.11/dist-packages (from spacy) (3.0.9)\n",
      "Requirement already satisfied: thinc<8.4.0,>=8.3.4 in /usr/local/lib/python3.11/dist-packages (from spacy) (8.3.4)\n",
      "Requirement already satisfied: wasabi<1.2.0,>=0.9.1 in /usr/local/lib/python3.11/dist-packages (from spacy) (1.1.3)\n",
      "Requirement already satisfied: srsly<3.0.0,>=2.4.3 in /usr/local/lib/python3.11/dist-packages (from spacy) (2.5.1)\n",
      "Requirement already satisfied: catalogue<2.1.0,>=2.0.6 in /usr/local/lib/python3.11/dist-packages (from spacy) (2.0.10)\n",
      "Requirement already satisfied: weasel<0.5.0,>=0.1.0 in /usr/local/lib/python3.11/dist-packages (from spacy) (0.4.1)\n",
      "Requirement already satisfied: typer<1.0.0,>=0.3.0 in /usr/local/lib/python3.11/dist-packages (from spacy) (0.15.2)\n",
      "Requirement already satisfied: setuptools in /usr/local/lib/python3.11/dist-packages (from spacy) (75.2.0)\n",
      "Requirement already satisfied: langcodes<4.0.0,>=3.2.0 in /usr/local/lib/python3.11/dist-packages (from spacy) (3.5.0)\n",
      "Requirement already satisfied: contourpy>=1.0.1 in /usr/local/lib/python3.11/dist-packages (from matplotlib) (1.3.1)\n",
      "Requirement already satisfied: cycler>=0.10 in /usr/local/lib/python3.11/dist-packages (from matplotlib) (0.12.1)\n",
      "Requirement already satisfied: fonttools>=4.22.0 in /usr/local/lib/python3.11/dist-packages (from matplotlib) (4.57.0)\n",
      "Requirement already satisfied: kiwisolver>=1.0.1 in /usr/local/lib/python3.11/dist-packages (from matplotlib) (1.4.8)\n",
      "Requirement already satisfied: pyparsing<3.1,>=2.3.1 in /usr/local/lib/python3.11/dist-packages (from matplotlib) (3.0.9)\n",
      "Requirement already satisfied: python-dateutil>=2.7 in /usr/local/lib/python3.11/dist-packages (from matplotlib) (2.9.0.post0)\n",
      "Requirement already satisfied: aiohappyeyeballs>=2.3.0 in /usr/local/lib/python3.11/dist-packages (from aiohttp<4.0.0,>=3.8.3->langchain-community) (2.6.1)\n",
      "Requirement already satisfied: aiosignal>=1.1.2 in /usr/local/lib/python3.11/dist-packages (from aiohttp<4.0.0,>=3.8.3->langchain-community) (1.3.2)\n",
      "Requirement already satisfied: attrs>=17.3.0 in /usr/local/lib/python3.11/dist-packages (from aiohttp<4.0.0,>=3.8.3->langchain-community) (25.3.0)\n",
      "Requirement already satisfied: frozenlist>=1.1.1 in /usr/local/lib/python3.11/dist-packages (from aiohttp<4.0.0,>=3.8.3->langchain-community) (1.6.0)\n",
      "Requirement already satisfied: multidict<7.0,>=4.5 in /usr/local/lib/python3.11/dist-packages (from aiohttp<4.0.0,>=3.8.3->langchain-community) (6.4.3)\n",
      "Requirement already satisfied: propcache>=0.2.0 in /usr/local/lib/python3.11/dist-packages (from aiohttp<4.0.0,>=3.8.3->langchain-community) (0.3.1)\n",
      "Requirement already satisfied: yarl<2.0,>=1.17.0 in /usr/local/lib/python3.11/dist-packages (from aiohttp<4.0.0,>=3.8.3->langchain-community) (1.20.0)\n",
      "Requirement already satisfied: marshmallow<4.0.0,>=3.18.0 in /usr/local/lib/python3.11/dist-packages (from dataclasses-json<0.7,>=0.5.7->langchain-community) (3.26.1)\n",
      "Requirement already satisfied: typing-inspect<1,>=0.4.0 in /usr/local/lib/python3.11/dist-packages (from dataclasses-json<0.7,>=0.5.7->langchain-community) (0.9.0)\n",
      "Requirement already satisfied: hf-xet<2.0.0,>=1.1.0 in /usr/local/lib/python3.11/dist-packages (from huggingface-hub<1.0,>=0.30.0->transformers) (1.1.0)\n",
      "Requirement already satisfied: jsonpatch<2.0,>=1.33 in /usr/local/lib/python3.11/dist-packages (from langchain-core<1.0.0,>=0.3.58->langchain) (1.33)\n",
      "Requirement already satisfied: language-data>=1.2 in /usr/local/lib/python3.11/dist-packages (from langcodes<4.0.0,>=3.2.0->spacy) (1.3.0)\n",
      "Requirement already satisfied: httpx<1,>=0.23.0 in /usr/local/lib/python3.11/dist-packages (from langsmith<0.4,>=0.1.17->langchain) (0.28.1)\n",
      "Requirement already satisfied: orjson<4.0.0,>=3.9.14 in /usr/local/lib/python3.11/dist-packages (from langsmith<0.4,>=0.1.17->langchain) (3.10.16)\n",
      "Requirement already satisfied: requests-toolbelt<2.0.0,>=1.0.0 in /usr/local/lib/python3.11/dist-packages (from langsmith<0.4,>=0.1.17->langchain) (1.0.0)\n",
      "Requirement already satisfied: zstandard<0.24.0,>=0.23.0 in /usr/local/lib/python3.11/dist-packages (from langsmith<0.4,>=0.1.17->langchain) (0.23.0)\n",
      "Requirement already satisfied: mkl_fft in /usr/local/lib/python3.11/dist-packages (from numpy>=1.17->transformers) (1.3.8)\n",
      "Requirement already satisfied: mkl_random in /usr/local/lib/python3.11/dist-packages (from numpy>=1.17->transformers) (1.2.4)\n",
      "Requirement already satisfied: mkl_umath in /usr/local/lib/python3.11/dist-packages (from numpy>=1.17->transformers) (0.1.1)\n",
      "Requirement already satisfied: mkl in /usr/local/lib/python3.11/dist-packages (from numpy>=1.17->transformers) (2025.1.0)\n",
      "Requirement already satisfied: tbb4py in /usr/local/lib/python3.11/dist-packages (from numpy>=1.17->transformers) (2022.1.0)\n",
      "Requirement already satisfied: mkl-service in /usr/local/lib/python3.11/dist-packages (from numpy>=1.17->transformers) (2.4.1)\n",
      "Requirement already satisfied: pytz>=2020.1 in /usr/local/lib/python3.11/dist-packages (from pandas->datasets) (2025.2)\n",
      "Requirement already satisfied: tzdata>=2022.7 in /usr/local/lib/python3.11/dist-packages (from pandas->datasets) (2025.2)\n",
      "Requirement already satisfied: annotated-types>=0.6.0 in /usr/local/lib/python3.11/dist-packages (from pydantic<3.0.0,>=2.7.4->langchain) (0.7.0)\n",
      "Requirement already satisfied: pydantic-core==2.33.2 in /usr/local/lib/python3.11/dist-packages (from pydantic<3.0.0,>=2.7.4->langchain) (2.33.2)\n",
      "Requirement already satisfied: typing-inspection>=0.4.0 in /usr/local/lib/python3.11/dist-packages (from pydantic<3.0.0,>=2.7.4->langchain) (0.4.0)\n",
      "Requirement already satisfied: python-dotenv>=0.21.0 in /usr/local/lib/python3.11/dist-packages (from pydantic-settings<3.0.0,>=2.4.0->langchain-community) (1.1.0)\n",
      "Requirement already satisfied: charset-normalizer<4,>=2 in /usr/local/lib/python3.11/dist-packages (from requests->transformers) (3.4.2)\n",
      "Requirement already satisfied: idna<4,>=2.5 in /usr/local/lib/python3.11/dist-packages (from requests->transformers) (3.10)\n",
      "Requirement already satisfied: urllib3<3,>=1.21.1 in /usr/local/lib/python3.11/dist-packages (from requests->transformers) (2.4.0)\n",
      "Requirement already satisfied: certifi>=2017.4.17 in /usr/local/lib/python3.11/dist-packages (from requests->transformers) (2025.4.26)\n",
      "Requirement already satisfied: greenlet>=1 in /usr/local/lib/python3.11/dist-packages (from SQLAlchemy<3,>=1.4->langchain) (3.1.1)\n",
      "Requirement already satisfied: blis<1.3.0,>=1.2.0 in /usr/local/lib/python3.11/dist-packages (from thinc<8.4.0,>=8.3.4->spacy) (1.2.1)\n",
      "Requirement already satisfied: confection<1.0.0,>=0.0.1 in /usr/local/lib/python3.11/dist-packages (from thinc<8.4.0,>=8.3.4->spacy) (0.1.5)\n",
      "Requirement already satisfied: shellingham>=1.3.0 in /usr/local/lib/python3.11/dist-packages (from typer<1.0.0,>=0.3.0->spacy) (1.5.4)\n",
      "Requirement already satisfied: rich>=10.11.0 in /usr/local/lib/python3.11/dist-packages (from typer<1.0.0,>=0.3.0->spacy) (14.0.0)\n",
      "Requirement already satisfied: cloudpathlib<1.0.0,>=0.7.0 in /usr/local/lib/python3.11/dist-packages (from weasel<0.5.0,>=0.1.0->spacy) (0.21.0)\n",
      "Requirement already satisfied: smart-open<8.0.0,>=5.2.1 in /usr/local/lib/python3.11/dist-packages (from weasel<0.5.0,>=0.1.0->spacy) (7.1.0)\n",
      "Requirement already satisfied: MarkupSafe>=2.0 in /usr/local/lib/python3.11/dist-packages (from jinja2->torch) (3.0.2)\n",
      "Requirement already satisfied: threadpoolctl>=2.0.0 in /usr/local/lib/python3.11/dist-packages (from scikit-learn->sentence-transformers) (3.6.0)\n",
      "Requirement already satisfied: anyio in /usr/local/lib/python3.11/dist-packages (from httpx<1,>=0.23.0->langsmith<0.4,>=0.1.17->langchain) (4.9.0)\n",
      "Requirement already satisfied: httpcore==1.* in /usr/local/lib/python3.11/dist-packages (from httpx<1,>=0.23.0->langsmith<0.4,>=0.1.17->langchain) (1.0.7)\n",
      "Requirement already satisfied: h11<0.15,>=0.13 in /usr/local/lib/python3.11/dist-packages (from httpcore==1.*->httpx<1,>=0.23.0->langsmith<0.4,>=0.1.17->langchain) (0.14.0)\n",
      "Requirement already satisfied: jsonpointer>=1.9 in /usr/local/lib/python3.11/dist-packages (from jsonpatch<2.0,>=1.33->langchain-core<1.0.0,>=0.3.58->langchain) (3.0.0)\n",
      "Requirement already satisfied: marisa-trie>=1.1.0 in /usr/local/lib/python3.11/dist-packages (from language-data>=1.2->langcodes<4.0.0,>=3.2.0->spacy) (1.2.1)\n",
      "Requirement already satisfied: markdown-it-py>=2.2.0 in /usr/local/lib/python3.11/dist-packages (from rich>=10.11.0->typer<1.0.0,>=0.3.0->spacy) (3.0.0)\n",
      "Requirement already satisfied: pygments<3.0.0,>=2.13.0 in /usr/local/lib/python3.11/dist-packages (from rich>=10.11.0->typer<1.0.0,>=0.3.0->spacy) (2.19.1)\n",
      "Requirement already satisfied: wrapt in /usr/local/lib/python3.11/dist-packages (from smart-open<8.0.0,>=5.2.1->weasel<0.5.0,>=0.1.0->spacy) (1.17.2)\n",
      "Requirement already satisfied: mypy-extensions>=0.3.0 in /usr/local/lib/python3.11/dist-packages (from typing-inspect<1,>=0.4.0->dataclasses-json<0.7,>=0.5.7->langchain-community) (1.1.0)\n",
      "Requirement already satisfied: intel-openmp<2026,>=2024 in /usr/local/lib/python3.11/dist-packages (from mkl->numpy>=1.17->transformers) (2024.2.0)\n",
      "Requirement already satisfied: tbb==2022.* in /usr/local/lib/python3.11/dist-packages (from mkl->numpy>=1.17->transformers) (2022.1.0)\n",
      "Requirement already satisfied: tcmlib==1.* in /usr/local/lib/python3.11/dist-packages (from tbb==2022.*->mkl->numpy>=1.17->transformers) (1.3.0)\n",
      "Requirement already satisfied: intel-cmplr-lib-rt in /usr/local/lib/python3.11/dist-packages (from mkl_umath->numpy>=1.17->transformers) (2024.2.0)\n",
      "Requirement already satisfied: intel-cmplr-lib-ur==2024.2.0 in /usr/local/lib/python3.11/dist-packages (from intel-openmp<2026,>=2024->mkl->numpy>=1.17->transformers) (2024.2.0)\n",
      "Requirement already satisfied: mdurl~=0.1 in /usr/local/lib/python3.11/dist-packages (from markdown-it-py>=2.2.0->rich>=10.11.0->typer<1.0.0,>=0.3.0->spacy) (0.1.2)\n",
      "Requirement already satisfied: sniffio>=1.1 in /usr/local/lib/python3.11/dist-packages (from anyio->httpx<1,>=0.23.0->langsmith<0.4,>=0.1.17->langchain) (1.3.1)\n"
     ]
    }
   ],
   "source": [
    "!pip install transformers datasets sentence-transformers faiss-cpu langchain langchain-community \\\n",
    "    nltk rouge-score sacrebleu torch spacy tqdm matplotlib seaborn"
   ]
  },
  {
   "cell_type": "code",
   "execution_count": 2,
   "metadata": {
    "execution": {
     "iopub.execute_input": "2025-05-19T14:43:49.376816Z",
     "iopub.status.busy": "2025-05-19T14:43:49.376532Z",
     "iopub.status.idle": "2025-05-19T14:44:00.450685Z",
     "shell.execute_reply": "2025-05-19T14:44:00.450058Z",
     "shell.execute_reply.started": "2025-05-19T14:43:49.376778Z"
    },
    "trusted": true
   },
   "outputs": [
    {
     "name": "stderr",
     "output_type": "stream",
     "text": [
      "2025-05-19 14:43:55.201701: E external/local_xla/xla/stream_executor/cuda/cuda_fft.cc:477] Unable to register cuFFT factory: Attempting to register factory for plugin cuFFT when one has already been registered\n",
      "WARNING: All log messages before absl::InitializeLog() is called are written to STDERR\n",
      "E0000 00:00:1747665835.224605     408 cuda_dnn.cc:8310] Unable to register cuDNN factory: Attempting to register factory for plugin cuDNN when one has already been registered\n",
      "E0000 00:00:1747665835.231528     408 cuda_blas.cc:1418] Unable to register cuBLAS factory: Attempting to register factory for plugin cuBLAS when one has already been registered\n",
      "[nltk_data] Downloading package punkt to /usr/share/nltk_data...\n",
      "[nltk_data]   Package punkt is already up-to-date!\n",
      "[nltk_data] Downloading package stopwords to /usr/share/nltk_data...\n",
      "[nltk_data]   Package stopwords is already up-to-date!\n",
      "[nltk_data] Downloading package wordnet to /usr/share/nltk_data...\n",
      "[nltk_data]   Package wordnet is already up-to-date!\n"
     ]
    }
   ],
   "source": [
    "import os\n",
    "import json\n",
    "import re\n",
    "from typing import List, Dict, Any, Tuple, Optional, Set\n",
    "import numpy as np\n",
    "import pandas as pd\n",
    "from tqdm.auto import tqdm\n",
    "import random\n",
    "from collections import Counter, defaultdict\n",
    "import matplotlib.pyplot as plt\n",
    "import seaborn as sns\n",
    "from IPython.display import HTML, display\n",
    "\n",
    "# Hugging Face imports\n",
    "from datasets import load_dataset\n",
    "from transformers import AutoModelForQuestionAnswering, AutoTokenizer, pipeline\n",
    "\n",
    "# LangChain imports\n",
    "from langchain.schema import Document\n",
    "from langchain.embeddings import HuggingFaceEmbeddings\n",
    "from langchain.vectorstores import FAISS\n",
    "from langchain.prompts import PromptTemplate\n",
    "\n",
    "# NLP processing tools\n",
    "import nltk\n",
    "from nltk.translate.bleu_score import sentence_bleu, SmoothingFunction\n",
    "from nltk.corpus import stopwords\n",
    "from rouge_score import rouge_scorer\n",
    "\n",
    "# Download required NLTK data\n",
    "nltk.download('punkt')\n",
    "nltk.download('stopwords')\n",
    "nltk.download('wordnet')\n",
    "\n",
    "# Import spaCy for better tokenization\n",
    "import spacy\n",
    "try:\n",
    "    nlp = spacy.load('en_core_web_sm')\n",
    "except OSError:\n",
    "    !python -m spacy download en_core_web_sm\n",
    "    nlp = spacy.load('en_core_web_sm')"
   ]
  },
  {
   "cell_type": "code",
   "execution_count": 3,
   "metadata": {
    "execution": {
     "iopub.execute_input": "2025-05-19T14:44:00.452295Z",
     "iopub.status.busy": "2025-05-19T14:44:00.451551Z",
     "iopub.status.idle": "2025-05-19T14:44:00.456297Z",
     "shell.execute_reply": "2025-05-19T14:44:00.455666Z",
     "shell.execute_reply.started": "2025-05-19T14:44:00.452266Z"
    },
    "trusted": true
   },
   "outputs": [],
   "source": [
    "# Set seeds for reproducibility\n",
    "RANDOM_SEED = 42\n",
    "random.seed(RANDOM_SEED)\n",
    "np.random.seed(RANDOM_SEED)\n",
    "os.environ['PYTHONHASHSEED'] = str(RANDOM_SEED)"
   ]
  },
  {
   "cell_type": "markdown",
   "metadata": {},
   "source": [
    "## 2. Loading the SQuAD Dataset"
   ]
  },
  {
   "cell_type": "code",
   "execution_count": 4,
   "metadata": {
    "execution": {
     "iopub.execute_input": "2025-05-19T14:44:00.457870Z",
     "iopub.status.busy": "2025-05-19T14:44:00.457663Z",
     "iopub.status.idle": "2025-05-19T14:44:06.507056Z",
     "shell.execute_reply": "2025-05-19T14:44:06.506341Z",
     "shell.execute_reply.started": "2025-05-19T14:44:00.457854Z"
    },
    "trusted": true
   },
   "outputs": [
    {
     "name": "stdout",
     "output_type": "stream",
     "text": [
      "Loaded 130319 training examples and 11873 validation examples\n"
     ]
    }
   ],
   "source": [
    "# Load SQuAD v2.0 dataset\n",
    "dataset = load_dataset(\"squad_v2\")\n",
    "train_dataset = dataset[\"train\"]\n",
    "val_dataset = dataset[\"validation\"]\n",
    "\n",
    "# Load full SQuAD v2.0 training set (for creating document store)\n",
    "train_dataset = load_dataset(\"squad_v2\", split=\"train\")\n",
    "val_dataset = load_dataset(\"squad_v2\", split=\"validation\")\n",
    "\n",
    "# Extract all unique contexts for document store\n",
    "train_contexts = train_dataset[\"context\"]\n",
    "val_contexts = val_dataset[\"context\"]\n",
    "all_contexts = train_contexts + val_contexts\n",
    "\n",
    "print(f\"Loaded {len(train_dataset)} training examples and {len(val_dataset)} validation examples\")"
   ]
  },
  {
   "cell_type": "code",
   "execution_count": 5,
   "metadata": {
    "execution": {
     "iopub.execute_input": "2025-05-19T14:44:06.508046Z",
     "iopub.status.busy": "2025-05-19T14:44:06.507810Z",
     "iopub.status.idle": "2025-05-19T14:44:06.513202Z",
     "shell.execute_reply": "2025-05-19T14:44:06.512460Z",
     "shell.execute_reply.started": "2025-05-19T14:44:06.508020Z"
    },
    "trusted": true
   },
   "outputs": [
    {
     "name": "stdout",
     "output_type": "stream",
     "text": [
      "Question:  When did French Republicans back building the English empire?\n",
      "Context: France took control of Algeria in 1830 but began in earnest to rebuild its worldwide empire after 1850, concentrating chiefly in North and West Africa, as well as South-East Asia, with other conquests...\n",
      "Answers: {'text': [], 'answer_start': []}\n"
     ]
    }
   ],
   "source": [
    "# Look at a sample example\n",
    "sample_idx = random.randint(0, len(val_dataset) - 1)\n",
    "sample = val_dataset[sample_idx]\n",
    "\n",
    "print(f\"Question: {sample['question']}\")\n",
    "print(f\"Context: {sample['context'][:200]}...\")\n",
    "print(f\"Answers: {sample['answers']}\")"
   ]
  },
  {
   "cell_type": "code",
   "execution_count": 6,
   "metadata": {
    "execution": {
     "iopub.execute_input": "2025-05-19T14:44:06.514220Z",
     "iopub.status.busy": "2025-05-19T14:44:06.513987Z",
     "iopub.status.idle": "2025-05-19T14:44:09.780958Z",
     "shell.execute_reply": "2025-05-19T14:44:09.780055Z",
     "shell.execute_reply.started": "2025-05-19T14:44:06.514199Z"
    },
    "trusted": true
   },
   "outputs": [
    {
     "name": "stdout",
     "output_type": "stream",
     "text": [
      "Total samples: 11873\n",
      "Answerable questions: 5928 (49.93%)\n",
      "Unanswerable questions: 5945 (50.07%)\n",
      "Average answer length: 20.92 characters\n",
      "Average context length: 810.97 characters\n",
      "\n",
      "Question types:\n",
      "  what: 5674 (47.79%)\n",
      "  other: 2853 (24.03%)\n",
      "  how: 1110 (9.35%)\n",
      "  who: 970 (8.17%)\n",
      "  when: 676 (5.69%)\n",
      "  where: 408 (3.44%)\n",
      "  why: 182 (1.53%)\n"
     ]
    },
    {
     "name": "stderr",
     "output_type": "stream",
     "text": [
      "/usr/local/lib/python3.11/dist-packages/seaborn/_oldcore.py:1119: FutureWarning: use_inf_as_na option is deprecated and will be removed in a future version. Convert inf values to NaN before operating instead.\n",
      "  with pd.option_context('mode.use_inf_as_na', True):\n"
     ]
    },
    {
     "data": {
      "image/png": "[encoded data removed]",
      "text/plain": [
       "<Figure size 1000x600 with 1 Axes>"
      ]
     },
     "metadata": {},
     "output_type": "display_data"
    },
    {
     "name": "stderr",
     "output_type": "stream",
     "text": [
      "/usr/local/lib/python3.11/dist-packages/seaborn/_oldcore.py:1765: FutureWarning: unique with argument that is not not a Series, Index, ExtensionArray, or np.ndarray is deprecated and will raise in a future version.\n",
      "  order = pd.unique(vector)\n"
     ]
    },
    {
     "data": {
      "image/png": "[encoded data removed]",
      "text/plain": [
       "<Figure size 1000x600 with 1 Axes>"
      ]
     },
     "metadata": {},
     "output_type": "display_data"
    }
   ],
   "source": [
    "# Analysis of SQuAD dataset\n",
    "def analyze_squad_dataset(dataset):\n",
    "    total_samples = len(dataset)\n",
    "    answerable_questions = sum(1 for ex in dataset if ex['answers']['text'])\n",
    "    unanswerable_questions = total_samples - answerable_questions\n",
    "    \n",
    "    # Calculate answer lengths\n",
    "    answer_lengths = [len(ex['answers']['text'][0]) for ex in dataset if ex['answers']['text']]\n",
    "    avg_answer_length = sum(answer_lengths) / len(answer_lengths) if answer_lengths else 0\n",
    "    \n",
    "    # Calculate context lengths\n",
    "    context_lengths = [len(ex['context']) for ex in dataset]\n",
    "    avg_context_length = sum(context_lengths) / len(context_lengths)\n",
    "    \n",
    "    # Calculate question types\n",
    "    question_types = Counter()\n",
    "    for ex in dataset:\n",
    "        question = ex['question'].lower()\n",
    "        if question.startswith('what'):\n",
    "            question_types['what'] += 1\n",
    "        elif question.startswith('who'):\n",
    "            question_types['who'] += 1\n",
    "        elif question.startswith('when'):\n",
    "            question_types['when'] += 1\n",
    "        elif question.startswith('where'):\n",
    "            question_types['where'] += 1\n",
    "        elif question.startswith('why'):\n",
    "            question_types['why'] += 1\n",
    "        elif question.startswith('how'):\n",
    "            question_types['how'] += 1\n",
    "        else:\n",
    "            question_types['other'] += 1\n",
    "    \n",
    "    # Print statistics\n",
    "    print(f\"Total samples: {total_samples}\")\n",
    "    print(f\"Answerable questions: {answerable_questions} ({answerable_questions/total_samples:.2%})\")\n",
    "    print(f\"Unanswerable questions: {unanswerable_questions} ({unanswerable_questions/total_samples:.2%})\")\n",
    "    print(f\"Average answer length: {avg_answer_length:.2f} characters\")\n",
    "    print(f\"Average context length: {avg_context_length:.2f} characters\")\n",
    "    print(\"\\nQuestion types:\")\n",
    "    for q_type, count in question_types.most_common():\n",
    "        print(f\"  {q_type}: {count} ({count/total_samples:.2%})\")\n",
    "    \n",
    "    # Plot answer length distribution\n",
    "    plt.figure(figsize=(10, 6))\n",
    "    sns.histplot(answer_lengths, bins=20, kde=True)\n",
    "    plt.title('Answer Length Distribution')\n",
    "    plt.xlabel('Answer Length (characters)')\n",
    "    plt.ylabel('Count')\n",
    "    plt.xlim(0, 100)  # Focus on answers up to 100 characters\n",
    "    plt.show()\n",
    "    \n",
    "    # Plot question type distribution\n",
    "    plt.figure(figsize=(10, 6))\n",
    "    sns.barplot(x=list(question_types.keys()), y=list(question_types.values()))\n",
    "    plt.title('Question Type Distribution')\n",
    "    plt.xlabel('Question Type')\n",
    "    plt.ylabel('Count')\n",
    "    plt.xticks(rotation=45)\n",
    "    plt.show()\n",
    "\n",
    "# Analyze validation set\n",
    "analyze_squad_dataset(val_dataset)"
   ]
  },
  {
   "cell_type": "markdown",
   "metadata": {},
   "source": [
    "## 3. Preparing Documents for Vector Store"
   ]
  },
  {
   "cell_type": "code",
   "execution_count": 7,
   "metadata": {
    "execution": {
     "iopub.execute_input": "2025-05-19T14:44:09.782079Z",
     "iopub.status.busy": "2025-05-19T14:44:09.781850Z",
     "iopub.status.idle": "2025-05-19T14:44:09.916517Z",
     "shell.execute_reply": "2025-05-19T14:44:09.915733Z",
     "shell.execute_reply.started": "2025-05-19T14:44:09.782062Z"
    },
    "trusted": true
   },
   "outputs": [
    {
     "name": "stdout",
     "output_type": "stream",
     "text": [
      "Prepared 20233 unique documents from the dataset\n"
     ]
    }
   ],
   "source": [
    "# Create LangChain documents (removing duplicates for efficiency)\n",
    "documents = [Document(page_content=ctx, metadata={\"source\": f\"squad_{i}\"}) \n",
    "        for i, ctx in enumerate(set(all_contexts))]\n",
    "print(f\"Prepared {len(documents)} unique documents from the dataset\")"
   ]
  },
  {
   "cell_type": "markdown",
   "metadata": {},
   "source": [
    "## 4. Creating the Vector Store for Semantic Search"
   ]
  },
  {
   "cell_type": "code",
   "execution_count": 30,
   "metadata": {
    "execution": {
     "iopub.execute_input": "2025-05-19T14:49:00.756182Z",
     "iopub.status.busy": "2025-05-19T14:49:00.755848Z",
     "iopub.status.idle": "2025-05-19T14:49:01.483758Z",
     "shell.execute_reply": "2025-05-19T14:49:01.483034Z",
     "shell.execute_reply.started": "2025-05-19T14:49:00.756141Z"
    },
    "trusted": true
   },
   "outputs": [],
   "source": [
    "embeddings = HuggingFaceEmbeddings(model_name=\"sentence-transformers/all-mpnet-base-v2\")"
   ]
  },
  {
   "cell_type": "code",
   "execution_count": 9,
   "metadata": {
    "execution": {
     "iopub.execute_input": "2025-05-19T14:44:09.922875Z",
     "iopub.status.busy": "2025-05-19T14:44:09.922609Z",
     "iopub.status.idle": "2025-05-19T14:46:26.004609Z",
     "shell.execute_reply": "2025-05-19T14:46:26.003695Z",
     "shell.execute_reply.started": "2025-05-19T14:44:09.922850Z"
    },
    "trusted": true
   },
   "outputs": [
    {
     "name": "stdout",
     "output_type": "stream",
     "text": [
      "Creating new FAISS index...\n"
     ]
    },
    {
     "name": "stderr",
     "output_type": "stream",
     "text": [
      "/tmp/ipykernel_408/3681611544.py:3: LangChainDeprecationWarning: The class `HuggingFaceEmbeddings` was deprecated in LangChain 0.2.2 and will be removed in 1.0. An updated version of the class exists in the :class:`~langchain-huggingface package and should be used instead. To use it run `pip install -U :class:`~langchain-huggingface` and import as `from :class:`~langchain_huggingface import HuggingFaceEmbeddings``.\n",
      "  embeddings = HuggingFaceEmbeddings(model_name=\"sentence-transformers/all-mpnet-base-v2\")\n"
     ]
    }
   ],
   "source": [
    "# Create or load vector store\n",
    "print(\"Creating new FAISS index...\")\n",
    "\n",
    "vector_store = FAISS.from_documents(documents, embeddings)\n",
    "\n",
    "# Create a retriever\n",
    "retriever = vector_store.as_retriever(search_kwargs={\"k\": 10})"
   ]
  },
  {
   "cell_type": "markdown",
   "metadata": {},
   "source": [
    "## 5. Loading and Configuring Models"
   ]
  },
  {
   "cell_type": "code",
   "execution_count": 10,
   "metadata": {
    "execution": {
     "iopub.execute_input": "2025-05-19T14:46:26.007086Z",
     "iopub.status.busy": "2025-05-19T14:46:26.006850Z",
     "iopub.status.idle": "2025-05-19T14:46:26.024781Z",
     "shell.execute_reply": "2025-05-19T14:46:26.023999Z",
     "shell.execute_reply.started": "2025-05-19T14:46:26.007069Z"
    },
    "trusted": true
   },
   "outputs": [
    {
     "data": {
      "application/vnd.jupyter.widget-view+json": {
       "model_id": "77062b3a0ee449b9b4a63a85bd2cd4cc",
       "version_major": 2,
       "version_minor": 0
      },
      "text/plain": [
       "VBox(children=(HTML(value='<center> <img\\nsrc=https://huggingface.co/front/assets/huggingface_logo-noborder.sv…"
      ]
     },
     "metadata": {},
     "output_type": "display_data"
    }
   ],
   "source": [
    "from huggingface_hub import login\n",
    "\n",
    "try:\n",
    "    login()\n",
    "except Exception as e:\n",
    "    print(f\"Hugging Face login failed: {e}\")\n",
    "    print(\"Please make sure you have a valid token and have accepted the model's terms on the Hugging Face website.\")"
   ]
  },
  {
   "cell_type": "code",
   "execution_count": 22,
   "metadata": {
    "execution": {
     "iopub.execute_input": "2025-05-19T14:46:41.482342Z",
     "iopub.status.busy": "2025-05-19T14:46:41.481984Z",
     "iopub.status.idle": "2025-05-19T14:46:42.901432Z",
     "shell.execute_reply": "2025-05-19T14:46:42.900565Z",
     "shell.execute_reply.started": "2025-05-19T14:46:41.482318Z"
    },
    "trusted": true
   },
   "outputs": [
    {
     "name": "stderr",
     "output_type": "stream",
     "text": [
      "Device set to use cuda:0\n"
     ]
    },
    {
     "name": "stdout",
     "output_type": "stream",
     "text": [
      "Loaded SQuAD-pretrained model: deepset/roberta-base-squad2\n"
     ]
    },
    {
     "name": "stderr",
     "output_type": "stream",
     "text": [
      "Some weights of the model checkpoint at bert-large-uncased-whole-word-masking-finetuned-squad were not used when initializing BertForQuestionAnswering: ['bert.pooler.dense.bias', 'bert.pooler.dense.weight']\n",
      "- This IS expected if you are initializing BertForQuestionAnswering from the checkpoint of a model trained on another task or with another architecture (e.g. initializing a BertForSequenceClassification model from a BertForPreTraining model).\n",
      "- This IS NOT expected if you are initializing BertForQuestionAnswering from the checkpoint of a model that you expect to be exactly identical (initializing a BertForSequenceClassification model from a BertForSequenceClassification model).\n",
      "Device set to use cuda:0\n"
     ]
    },
    {
     "name": "stdout",
     "output_type": "stream",
     "text": [
      "Loaded alternative QA model (not trained on SQuAD v2.0): bert-large-uncased-whole-word-masking-finetuned-squad\n"
     ]
    }
   ],
   "source": [
    "# Model 1: SQuAD-pretrained model\n",
    "squad_model_name = \"deepset/roberta-base-squad2\"\n",
    "squad_qa_pipeline = pipeline(\"question-answering\", model=squad_model_name, tokenizer=squad_model_name)\n",
    "print(f\"Loaded SQuAD-pretrained model: {squad_model_name}\")\n",
    "\n",
    "# Model 2: Alternative QA model (not pretrained on SQuAD v2.0)\n",
    "general_model_name = \"bert-large-uncased-whole-word-masking-finetuned-squad\"\n",
    "general_qa_pipeline = pipeline(\"question-answering\", model=general_model_name)\n",
    "print(f\"Loaded alternative QA model (not trained on SQuAD v2.0): {general_model_name}\")"
   ]
  },
  {
   "cell_type": "markdown",
   "metadata": {},
   "source": [
    "## 6. Enhanced Conversation History Management"
   ]
  },
  {
   "cell_type": "code",
   "execution_count": 31,
   "metadata": {
    "execution": {
     "iopub.execute_input": "2025-05-19T14:49:43.126027Z",
     "iopub.status.busy": "2025-05-19T14:49:43.125435Z",
     "iopub.status.idle": "2025-05-19T14:49:43.133385Z",
     "shell.execute_reply": "2025-05-19T14:49:43.132589Z",
     "shell.execute_reply.started": "2025-05-19T14:49:43.126003Z"
    },
    "trusted": true
   },
   "outputs": [],
   "source": [
    "class ConversationManager:\n",
    "    def __init__(self, max_history=5, context_weight_decay=0.8):\n",
    "        self.conversation_history = []\n",
    "        self.max_history = max_history\n",
    "        self.context_weight_decay = context_weight_decay  # Weight decay for older contexts\n",
    "    \n",
    "    def add_interaction(self, question, answer, context=None, confidence=None):\n",
    "        \"\"\"Add a question-answer pair to the conversation history\"\"\"\n",
    "        self.conversation_history.append({\n",
    "            \"question\": question,\n",
    "            \"answer\": answer,\n",
    "            \"context\": context,\n",
    "            \"confidence\": confidence,\n",
    "            \"timestamp\": pd.Timestamp.now()\n",
    "        })\n",
    "        \n",
    "        # Keep only the most recent exchanges\n",
    "        if len(self.conversation_history) > self.max_history:\n",
    "            self.conversation_history = self.conversation_history[-self.max_history:]\n",
    "    \n",
    "    def get_conversation_context(self, include_confidence=False):\n",
    "        \"\"\"Return a formatted string of the conversation history\"\"\"\n",
    "        formatted_history = \"\"\n",
    "        for exchange in self.conversation_history:\n",
    "            confidence_str = f\" (Confidence: {exchange['confidence']:.2f})\" if include_confidence and exchange['confidence'] is not None else \"\"\n",
    "            formatted_history += f\"Q: {exchange['question']}\\nA: {exchange['answer']}{confidence_str}\\n\\n\"\n",
    "        return formatted_history\n",
    "    \n",
    "    def get_last_exchange(self):\n",
    "        \"\"\"Return the last question-answer exchange\"\"\"\n",
    "        if self.conversation_history:\n",
    "            return self.conversation_history[-1]\n",
    "        return None\n",
    "    \n",
    "    def get_weighted_context_history(self):\n",
    "        \"\"\"Return previous contexts with weights based on recency\"\"\"\n",
    "        if not self.conversation_history:\n",
    "            return []\n",
    "            \n",
    "        weighted_contexts = []\n",
    "        history_length = len(self.conversation_history)\n",
    "        \n",
    "        for i, exchange in enumerate(self.conversation_history):\n",
    "            if exchange['context']:\n",
    "                # Calculate weight based on position in history (more recent = higher weight)\n",
    "                weight = self.context_weight_decay ** (history_length - i - 1)\n",
    "                weighted_contexts.append((exchange['context'], weight))\n",
    "                \n",
    "        return weighted_contexts\n",
    "    \n",
    "    def clear(self):\n",
    "        \"\"\"Clear conversation history\"\"\"\n",
    "        self.conversation_history = []"
   ]
  },
  {
   "cell_type": "markdown",
   "metadata": {},
   "source": [
    "## 7. Improved Context Retrieval"
   ]
  },
  {
   "cell_type": "code",
   "execution_count": 32,
   "metadata": {
    "execution": {
     "iopub.execute_input": "2025-05-19T14:49:45.353323Z",
     "iopub.status.busy": "2025-05-19T14:49:45.352703Z",
     "iopub.status.idle": "2025-05-19T14:49:45.367209Z",
     "shell.execute_reply": "2025-05-19T14:49:45.366300Z",
     "shell.execute_reply.started": "2025-05-19T14:49:45.353300Z"
    },
    "trusted": true
   },
   "outputs": [],
   "source": [
    "def extract_keywords(text, num_keywords=5):\n",
    "    \"\"\"Extract important keywords from text using spaCy\"\"\"\n",
    "    # Process the text with spaCy\n",
    "    doc = nlp(text)\n",
    "    \n",
    "    # Get stopwords\n",
    "    stop_words = set(stopwords.words('english'))\n",
    "    \n",
    "    # Extract potential keywords (nouns, proper nouns, etc.)\n",
    "    keywords = []\n",
    "    for token in doc:\n",
    "        if (token.pos_ in ['NOUN', 'PROPN']) and (token.text.lower() not in stop_words) and (len(token.text) > 2):\n",
    "            keywords.append(token.text)\n",
    "    \n",
    "    # Extract named entities too\n",
    "    for ent in doc.ents:\n",
    "        keywords.append(ent.text)\n",
    "    \n",
    "    # Count occurrences and get most common\n",
    "    keyword_counts = Counter(keywords)\n",
    "    return [w for w, _ in keyword_counts.most_common(num_keywords)]\n",
    "\n",
    "def calculate_keyword_score(text, keywords):\n",
    "    \"\"\"Calculate a score based on keyword matches\"\"\"\n",
    "    if not keywords:\n",
    "        return 0\n",
    "        \n",
    "    score = 0\n",
    "    text_lower = text.lower()\n",
    "    \n",
    "    for keyword in keywords:\n",
    "        keyword_lower = keyword.lower()\n",
    "        # Count occurrences\n",
    "        occurrences = text_lower.count(keyword_lower)\n",
    "        # Add to score (with diminishing returns for multiple occurrences)\n",
    "        score += min(occurrences, 3) * 0.5\n",
    "        \n",
    "        # Bonus points for exact matches\n",
    "        if keyword in text:\n",
    "            score += 1\n",
    "    \n",
    "    return score\n",
    "\n",
    "def mmr_rerank(documents, query, lambda_param=0.7, top_n=3):\n",
    "    \"\"\"Rerank documents using Maximum Marginal Relevance to balance relevance with diversity\"\"\"\n",
    "    # Create embeddings for query and documents\n",
    "    query_embedding = embeddings.embed_query(query)\n",
    "    doc_embeddings = [embeddings.embed_query(doc.page_content) for doc in documents]\n",
    "    \n",
    "    # Calculate similarity between query and each document\n",
    "    similarities = [np.dot(query_embedding, doc_emb) / (np.linalg.norm(query_embedding) * np.linalg.norm(doc_emb)) \n",
    "                    for doc_emb in doc_embeddings]\n",
    "    doc_similarity_tuples = [(i, sim) for i, sim in enumerate(similarities)]\n",
    "    \n",
    "    # Sort by similarity\n",
    "    doc_similarity_tuples.sort(key=lambda x: x[1], reverse=True)\n",
    "    \n",
    "    # Pick the first document\n",
    "    selected = [doc_similarity_tuples[0][0]]\n",
    "    remaining = doc_similarity_tuples[1:]\n",
    "    \n",
    "    # Rerank remaining documents using MMR\n",
    "    while len(selected) < top_n and remaining:\n",
    "        best_score = -np.inf\n",
    "        best_idx = -1\n",
    "        best_remaining_idx = -1\n",
    "        \n",
    "        for i, (doc_idx, sim_to_query) in enumerate(remaining):\n",
    "            # Calculate maximum similarity to any already selected document\n",
    "            max_sim_to_selected = max([np.dot(doc_embeddings[doc_idx], doc_embeddings[sel_idx]) / \n",
    "                                     (np.linalg.norm(doc_embeddings[doc_idx]) * np.linalg.norm(doc_embeddings[sel_idx]))\n",
    "                                     for sel_idx in selected])\n",
    "            \n",
    "            # Calculate MMR score\n",
    "            mmr_score = lambda_param * sim_to_query - (1 - lambda_param) * max_sim_to_selected\n",
    "            \n",
    "            if mmr_score > best_score:\n",
    "                best_score = mmr_score\n",
    "                best_idx = doc_idx\n",
    "                best_remaining_idx = i\n",
    "        \n",
    "        # Add best document to selected and remove from remaining\n",
    "        selected.append(best_idx)\n",
    "        remaining.pop(best_remaining_idx)\n",
    "    \n",
    "    # Return selected documents in order\n",
    "    return [documents[i] for i in selected]\n",
    "\n",
    "def retrieve_relevant_context(question, conversation_manager=None, include_history=True, use_mmr=True, use_keywords=True):\n",
    "    \"\"\"Enhanced context retrieval with MMR and keyword re-ranking\"\"\"\n",
    "    # Generate retrieval query from question and conversation history\n",
    "    retrieval_query = question\n",
    "    \n",
    "    # Add context from conversation history\n",
    "    if include_history and conversation_manager and conversation_manager.conversation_history:\n",
    "        # Include the last exchange for continuity\n",
    "        last_exchange = conversation_manager.get_last_exchange()\n",
    "        if last_exchange:\n",
    "            retrieval_query = f\"{last_exchange['question']} {last_exchange['answer']} {question}\"\n",
    "    \n",
    "    # Extract keywords for additional ranking\n",
    "    keywords = extract_keywords(question) if use_keywords else []\n",
    "    \n",
    "    # Retrieve initial documents\n",
    "    retrieved_docs = retriever.get_relevant_documents(retrieval_query)\n",
    "    \n",
    "    if not retrieved_docs:\n",
    "        return None\n",
    "    \n",
    "    # Apply MMR reranking if enabled\n",
    "    if use_mmr and len(retrieved_docs) > 1:\n",
    "        retrieved_docs = mmr_rerank(retrieved_docs, question)\n",
    "    \n",
    "    # Apply keyword-based re-ranking if enabled\n",
    "    if use_keywords and keywords:\n",
    "        # Calculate keyword scores\n",
    "        keyword_scores = [(doc, calculate_keyword_score(doc.page_content, keywords)) \n",
    "                         for doc in retrieved_docs]\n",
    "        \n",
    "        # Sort by keyword score (secondary sort)\n",
    "        keyword_scores.sort(key=lambda x: x[1], reverse=True)\n",
    "        \n",
    "        # Get reranked documents\n",
    "        retrieved_docs = [doc for doc, _ in keyword_scores]\n",
    "    \n",
    "    # Extract and combine contexts\n",
    "    contexts = [doc.page_content for doc in retrieved_docs]\n",
    "    combined_context = \" \".join(contexts)\n",
    "    \n",
    "    # Limit context length if needed\n",
    "    max_context_length = 5000\n",
    "    if len(combined_context) > max_context_length:\n",
    "        combined_context = combined_context[:max_context_length]\n",
    "    \n",
    "    return combined_context"
   ]
  },
  {
   "cell_type": "code",
   "execution_count": 33,
   "metadata": {
    "execution": {
     "iopub.execute_input": "2025-05-19T14:49:56.656963Z",
     "iopub.status.busy": "2025-05-19T14:49:56.656679Z",
     "iopub.status.idle": "2025-05-19T14:49:56.865620Z",
     "shell.execute_reply": "2025-05-19T14:49:56.864936Z",
     "shell.execute_reply.started": "2025-05-19T14:49:56.656942Z"
    },
    "trusted": true
   },
   "outputs": [
    {
     "name": "stdout",
     "output_type": "stream",
     "text": [
      "Question: Who was the leader of the Normans?\n",
      "Retrieved context (excerpt): The Normans (Norman: Nourmands; French: Normands; Latin: Normanni) were the people who in the 10th and 11th centuries gave their name to Normandy, a region in France. They were descended from Norse (\"Norman\" comes from \"Norseman\") raiders and pirates from Denmark, Iceland and Norway who, under their leader Rollo, agreed to swear fealty to King Charles III of West Francia. Through generations of assimilation and mixing with the native Frankish and Roman-Gaulish populations, their descendants would gradually merge with the Carolingian-based cultures of West Francia. The distinct cultural and ethnic identity of the Normans emerged initially in the first half of the 10th century, and it continued to evolve over the succeeding centuries. The legendary religious zeal of the Normans was exercised in religious wars long before the First Crusade carved out a Norman principality in Antioch. They were major foreign participants in the Reconquista in Iberia. In 1018, Roger de Tosny travelled to the Iberian Peninsula to carve out a state for himself from Moorish lands, but failed. In 1064, during the War of Barbastro, William of Montreuil led the papal army and took a huge booty. One of the first Norman mercenaries to serve as a Byzantine general was Hervé in the 1050s. By then however, there were already Norman mercenaries serving as far away as Trebizond and Georgia. They were based at Malatya and Edessa, under the Byzantine duke of Antioch, Isaac Komnenos. In the 1060s, Robert Crispin led the Normans of Edessa against the Turks. Roussel de Bailleul even tried to carve out an independent state in Asia Minor with support from the local population, but he was stopped by the Byzantine general Alexius Komnenos.\n"
     ]
    }
   ],
   "source": [
    "# Test the retrieval function\n",
    "test_question = \"Who was the leader of the Normans?\"\n",
    "retrieved_context = retrieve_relevant_context(test_question)\n",
    "print(f\"Question: {test_question}\")\n",
    "print(f\"Retrieved context (excerpt): {retrieved_context}\")"
   ]
  },
  {
   "cell_type": "markdown",
   "metadata": {},
   "source": [
    "## 8. Improved RAG Implementations"
   ]
  },
  {
   "cell_type": "code",
   "execution_count": 74,
   "metadata": {
    "execution": {
     "iopub.execute_input": "2025-05-19T15:44:48.735634Z",
     "iopub.status.busy": "2025-05-19T15:44:48.734995Z",
     "iopub.status.idle": "2025-05-19T15:44:48.743828Z",
     "shell.execute_reply": "2025-05-19T15:44:48.743021Z",
     "shell.execute_reply.started": "2025-05-19T15:44:48.735609Z"
    },
    "trusted": true
   },
   "outputs": [],
   "source": [
    "class RAGWithSQuADModel:\n",
    "    def __init__(self):\n",
    "        self.qa_pipeline = squad_qa_pipeline\n",
    "        self.model_name = squad_model_name\n",
    "        self.conversation_manager = ConversationManager()\n",
    "        # Model-specific confidence threshold\n",
    "        self.base_confidence_threshold = 0.1\n",
    "        self.answer_cache = {}  # Cache for optimization\n",
    "    \n",
    "    def answer_question(self, question, use_mmr=False, use_keywords=False):\n",
    "        \"\"\"Answer a question using RAG with SQuAD-pretrained model\"\"\"\n",
    "        # Check cache first\n",
    "        if question in self.answer_cache:\n",
    "            return self.answer_cache[question]\n",
    "            \n",
    "        # Retrieve relevant context\n",
    "        context = retrieve_relevant_context(question, self.conversation_manager, use_mmr, use_keywords)\n",
    "        \n",
    "        if not context:\n",
    "            return \"I couldn't find any relevant information to answer your question.\"\n",
    "\n",
    "        # Incorporate conversation history into the question\n",
    "        enhanced_question = question\n",
    "        if self.conversation_manager.conversation_history:\n",
    "            # Get the last 1-2 exchanges to provide context\n",
    "            recent_history = self.conversation_manager.conversation_history if len(self.conversation_manager.conversation_history) > 1 else self.conversation_manager.conversation_history\n",
    "            history_context = \"\"\n",
    "            for exchange in recent_history:\n",
    "                history_context += f\"Q: {exchange['question']}\\nA: {exchange['answer']}\\n\"\n",
    "            # Prepend history to the question\n",
    "            enhanced_question = f\"{history_context}\\nQ: {question}\"\n",
    "\n",
    "        # Process with the model using the enhanced question\n",
    "        result = self.qa_pipeline(question=enhanced_question, context=context)\n",
    "        \n",
    "        # Rest of method remains the same\n",
    "        answer = result[\"answer\"]\n",
    "        score = result[\"score\"]\n",
    "        \n",
    "        # Dynamic confidence threshold based on answer length\n",
    "        confidence_threshold = self.base_confidence_threshold\n",
    "        if len(answer) < 3:  # Very short answers need higher confidence\n",
    "            confidence_threshold *= 1.5\n",
    "        \n",
    "        # Handle low confidence answers\n",
    "        if score < confidence_threshold or not answer.strip():\n",
    "            answer = \"I'm not confident in my answer based on the available information.\"\n",
    "        \n",
    "        # Update conversation history\n",
    "        self.conversation_manager.add_interaction(question, answer, context, score)\n",
    "        \n",
    "        # Cache the answer\n",
    "        self.answer_cache[question] = answer\n",
    "        \n",
    "        return answer\n",
    "    \n",
    "    def get_answer_with_confidence(self, question, use_mmr=False, use_keywords=False):\n",
    "        \"\"\"Return both answer and confidence score\"\"\"\n",
    "        # Retrieve relevant context\n",
    "        context = retrieve_relevant_context(question, self.conversation_manager, use_mmr, use_keywords)\n",
    "        \n",
    "        if not context:\n",
    "            return \"I couldn't find any relevant information to answer your question.\", 0.0\n",
    "        \n",
    "        # Process with the SQuAD-pretrained model\n",
    "        result = self.qa_pipeline(question=question, context=context)\n",
    "        \n",
    "        return result[\"answer\"], result[\"score\"]\n",
    "    \n",
    "    def clear_history(self):\n",
    "        \"\"\"Clear conversation history\"\"\"\n",
    "        self.conversation_manager.clear()\n",
    "        self.answer_cache = {}"
   ]
  },
  {
   "cell_type": "code",
   "execution_count": 75,
   "metadata": {
    "execution": {
     "iopub.execute_input": "2025-05-19T15:44:52.841670Z",
     "iopub.status.busy": "2025-05-19T15:44:52.841402Z",
     "iopub.status.idle": "2025-05-19T15:44:52.850142Z",
     "shell.execute_reply": "2025-05-19T15:44:52.849466Z",
     "shell.execute_reply.started": "2025-05-19T15:44:52.841652Z"
    },
    "trusted": true
   },
   "outputs": [],
   "source": [
    "class RAGWithGeneralModel:\n",
    "    def __init__(self):\n",
    "        self.qa_pipeline = general_qa_pipeline\n",
    "        self.model_name = general_model_name\n",
    "        self.conversation_manager = ConversationManager()\n",
    "        # Model-specific confidence threshold (potentially different from SQuAD model)\n",
    "        self.base_confidence_threshold = 0.15  # Slightly higher threshold for this model\n",
    "        self.answer_cache = {}  # Cache for optimization\n",
    "    \n",
    "    def answer_question(self, question, use_mmr=False, use_keywords=False):\n",
    "        \"\"\"Answer a question using RAG with SQuAD-pretrained model\"\"\"\n",
    "        # Check cache first\n",
    "        if question in self.answer_cache:\n",
    "            return self.answer_cache[question]\n",
    "            \n",
    "        # Retrieve relevant context\n",
    "        context = retrieve_relevant_context(question, self.conversation_manager, use_mmr, use_keywords)\n",
    "        \n",
    "        if not context:\n",
    "            return \"I couldn't find any relevant information to answer your question.\"\n",
    "\n",
    "        # Incorporate conversation history into the question\n",
    "        enhanced_question = question\n",
    "        if self.conversation_manager.conversation_history:\n",
    "            # Get the last 1-2 exchanges to provide context\n",
    "            recent_history = self.conversation_manager.conversation_history if len(self.conversation_manager.conversation_history) > 1 else self.conversation_manager.conversation_history\n",
    "            history_context = \"\"\n",
    "            for exchange in recent_history:\n",
    "                history_context += f\"Q: {exchange['question']}\\nA: {exchange['answer']}\\n\"\n",
    "            # Prepend history to the question\n",
    "            enhanced_question = f\"{history_context}\\nQ: {question}\"\n",
    "\n",
    "        # Process with the model using the enhanced question\n",
    "        result = self.qa_pipeline(question=enhanced_question, context=context)\n",
    "        \n",
    "        # Rest of method remains the same\n",
    "        answer = result[\"answer\"]\n",
    "        score = result[\"score\"]\n",
    "        \n",
    "        # Dynamic confidence threshold based on answer length\n",
    "        confidence_threshold = self.base_confidence_threshold\n",
    "        if len(answer) < 3:  # Very short answers need higher confidence\n",
    "            confidence_threshold *= 1.5\n",
    "        \n",
    "        # Handle low confidence answers\n",
    "        if score < confidence_threshold or not answer.strip():\n",
    "            answer = \"I'm not confident in my answer based on the available information.\"\n",
    "        \n",
    "        # Update conversation history\n",
    "        self.conversation_manager.add_interaction(question, answer, context, score)\n",
    "        \n",
    "        # Cache the answer\n",
    "        self.answer_cache[question] = answer\n",
    "        \n",
    "        return answer\n",
    "    \n",
    "    def get_answer_with_confidence(self, question, use_mmr=False, use_keywords=False):\n",
    "        \"\"\"Return both answer and confidence score\"\"\"\n",
    "        # Retrieve relevant context\n",
    "        context = retrieve_relevant_context(question, self.conversation_manager, use_mmr, use_keywords)\n",
    "        \n",
    "        if not context:\n",
    "            return \"I couldn't find any relevant information to answer your question.\", 0.0\n",
    "        \n",
    "        # Process with the general model\n",
    "        result = self.qa_pipeline(question=question, context=context)\n",
    "        \n",
    "        return result[\"answer\"], result[\"score\"]\n",
    "    \n",
    "    def clear_history(self):\n",
    "        \"\"\"Clear conversation history\"\"\"\n",
    "        self.conversation_manager.clear()\n",
    "        self.answer_cache = {}"
   ]
  },
  {
   "cell_type": "markdown",
   "metadata": {},
   "source": [
    "## 9. Enhanced Evaluation Metrics"
   ]
  },
  {
   "cell_type": "code",
   "execution_count": 36,
   "metadata": {
    "execution": {
     "iopub.execute_input": "2025-05-19T14:50:07.405984Z",
     "iopub.status.busy": "2025-05-19T14:50:07.405211Z",
     "iopub.status.idle": "2025-05-19T14:50:07.414940Z",
     "shell.execute_reply": "2025-05-19T14:50:07.414116Z",
     "shell.execute_reply.started": "2025-05-19T14:50:07.405959Z"
    },
    "trusted": true
   },
   "outputs": [],
   "source": [
    "def improved_compute_f1_score(prediction, ground_truth):\n",
    "    \"\"\"Compute F1 score between prediction and ground truth\"\"\"\n",
    "    if not ground_truth and not prediction:\n",
    "        return 1.0\n",
    "    if not ground_truth or not prediction:\n",
    "        return 0.0\n",
    "    \n",
    "    # Use spaCy for better tokenization\n",
    "    pred_doc = nlp(prediction.lower())\n",
    "    truth_doc = nlp(ground_truth.lower())\n",
    "    \n",
    "    pred_tokens = [token.text for token in pred_doc if not token.is_punct and not token.is_stop]\n",
    "    truth_tokens = [token.text for token in truth_doc if not token.is_punct and not token.is_stop]\n",
    "    \n",
    "    # Calculate precision, recall, and F1\n",
    "    common = set(pred_tokens) & set(truth_tokens)\n",
    "    precision = len(common) / len(pred_tokens) if pred_tokens else 0\n",
    "    recall = len(common) / len(truth_tokens) if truth_tokens else 0\n",
    "    f1 = 2 * precision * recall / (precision + recall) if (precision + recall) > 0 else 0\n",
    "    \n",
    "    return f1\n",
    "\n",
    "def improved_compute_metrics(prediction, ground_truth):\n",
    "    \"\"\"Compute various metrics between prediction and ground truth\"\"\"\n",
    "    # ROUGE scores\n",
    "    rouge = rouge_scorer.RougeScorer(['rouge1', 'rouge2', 'rougeL'], use_stemmer=True)\n",
    "    rouge_scores = rouge.score(prediction, ground_truth)\n",
    "    \n",
    "    # BLEU score with smoothing\n",
    "    pred_doc = nlp(prediction.lower())\n",
    "    truth_doc = nlp(ground_truth.lower())\n",
    "    \n",
    "    pred_tokens = [token.text for token in pred_doc if not token.is_punct]\n",
    "    truth_tokens = [[token.text for token in truth_doc if not token.is_punct]]\n",
    "    \n",
    "    # Use smoothing function for BLEU and lower n-gram weights for short texts\n",
    "    smoothie = SmoothingFunction().method1\n",
    "    weights = (0.5, 0.3, 0.1, 0.1)  # Give more weight to unigrams & bigrams\n",
    "    \n",
    "    bleu_score = sentence_bleu(truth_tokens, pred_tokens, \n",
    "                              weights=weights,\n",
    "                              smoothing_function=smoothie) if pred_tokens else 0\n",
    "    \n",
    "    # F1 score\n",
    "    f1 = improved_compute_f1_score(prediction, ground_truth)\n",
    "    \n",
    "    # Semantic similarity using sentence-transformers\n",
    "    similarity_score = compute_semantic_similarity(prediction, ground_truth)\n",
    "    \n",
    "    # Answer exact match\n",
    "    exact_match = 1.0 if prediction.lower() == ground_truth.lower() else 0.0\n",
    "    \n",
    "    return {\n",
    "        'f1': f1,\n",
    "        'bleu': bleu_score,\n",
    "        'rouge1_f1': rouge_scores['rouge1'].fmeasure,\n",
    "        'rouge2_f1': rouge_scores['rouge2'].fmeasure,\n",
    "        'rougeL_f1': rouge_scores['rougeL'].fmeasure,\n",
    "        'semantic_similarity': similarity_score,\n",
    "        'exact_match': exact_match\n",
    "    }\n",
    "\n",
    "def compute_semantic_similarity(text1, text2):\n",
    "    \"\"\"Compute semantic similarity between two texts using sentence embeddings\"\"\"    \n",
    "    # Get embeddings\n",
    "    emb1 = embeddings.embed_query(text1)\n",
    "    emb2 = embeddings.embed_query(text2)\n",
    "    \n",
    "    # Calculate cosine similarity\n",
    "    similarity = np.dot(emb1, emb2) / (np.linalg.norm(emb1) * np.linalg.norm(emb2))\n",
    "    \n",
    "    return similarity"
   ]
  },
  {
   "cell_type": "code",
   "execution_count": 37,
   "metadata": {
    "execution": {
     "iopub.execute_input": "2025-05-19T14:50:22.105271Z",
     "iopub.status.busy": "2025-05-19T14:50:22.104738Z",
     "iopub.status.idle": "2025-05-19T14:50:22.111389Z",
     "shell.execute_reply": "2025-05-19T14:50:22.110559Z",
     "shell.execute_reply.started": "2025-05-19T14:50:22.105245Z"
    },
    "trusted": true
   },
   "outputs": [],
   "source": [
    "def filter_valid_examples(dataset, max_samples=50, include_unanswerable=False):\n",
    "    \"\"\"Filter examples from the dataset for evaluation\"\"\"\n",
    "    valid_examples = []\n",
    "    unanswerable_count = 0\n",
    "    answerable_count = 0\n",
    "    max_unanswerable = max_samples // 4 if include_unanswerable else 0  # 25% unanswerable if included\n",
    "    \n",
    "    # Random shuffling for better sampling\n",
    "    indices = list(range(len(dataset)))\n",
    "    random.shuffle(indices)\n",
    "    \n",
    "    for idx in indices:\n",
    "        ex = dataset[idx]\n",
    "        \n",
    "        # Check if there is at least one answer\n",
    "        if ex['answers']['text']:\n",
    "            if answerable_count < (max_samples - max_unanswerable):\n",
    "                valid_examples.append({\n",
    "                    'question': ex['question'],\n",
    "                    'context': ex['context'],\n",
    "                    'answer': ex['answers']['text'][0],  # Take the first answer\n",
    "                    'has_answer': True\n",
    "                })\n",
    "                answerable_count += 1\n",
    "        elif include_unanswerable and unanswerable_count < max_unanswerable:\n",
    "            valid_examples.append({\n",
    "                'question': ex['question'],\n",
    "                'context': ex['context'],\n",
    "                'answer': \"\",  # Empty answer for unanswerable questions\n",
    "                'has_answer': False\n",
    "            })\n",
    "            unanswerable_count += 1\n",
    "        \n",
    "        if answerable_count >= (max_samples - max_unanswerable) and unanswerable_count >= max_unanswerable:\n",
    "            break\n",
    "    \n",
    "    print(f\"Selected {len(valid_examples)} evaluation examples\")\n",
    "    print(f\"  - Answerable: {answerable_count}\")\n",
    "    print(f\"  - Unanswerable: {unanswerable_count}\")\n",
    "    \n",
    "    return valid_examples"
   ]
  },
  {
   "cell_type": "markdown",
   "metadata": {},
   "source": [
    "## 10. Run Experiments"
   ]
  },
  {
   "cell_type": "code",
   "execution_count": 38,
   "metadata": {
    "execution": {
     "iopub.execute_input": "2025-05-19T14:50:28.781529Z",
     "iopub.status.busy": "2025-05-19T14:50:28.780784Z",
     "iopub.status.idle": "2025-05-19T14:50:28.809338Z",
     "shell.execute_reply": "2025-05-19T14:50:28.808584Z",
     "shell.execute_reply.started": "2025-05-19T14:50:28.781496Z"
    },
    "trusted": true
   },
   "outputs": [
    {
     "name": "stdout",
     "output_type": "stream",
     "text": [
      "Selected 100 evaluation examples\n",
      "  - Answerable: 75\n",
      "  - Unanswerable: 25\n"
     ]
    }
   ],
   "source": [
    "# Select validation examples\n",
    "validation_examples = filter_valid_examples(val_dataset, max_samples=100, include_unanswerable=True)"
   ]
  },
  {
   "cell_type": "code",
   "execution_count": 68,
   "metadata": {
    "execution": {
     "iopub.execute_input": "2025-05-19T15:37:09.379498Z",
     "iopub.status.busy": "2025-05-19T15:37:09.379212Z",
     "iopub.status.idle": "2025-05-19T15:37:09.383315Z",
     "shell.execute_reply": "2025-05-19T15:37:09.382507Z",
     "shell.execute_reply.started": "2025-05-19T15:37:09.379481Z"
    },
    "trusted": true
   },
   "outputs": [],
   "source": [
    "# Initialize both systems\n",
    "squad_model_system = RAGWithSQuADModel()\n",
    "general_model_system = RAGWithGeneralModel()"
   ]
  },
  {
   "cell_type": "code",
   "execution_count": 69,
   "metadata": {
    "execution": {
     "iopub.execute_input": "2025-05-19T15:37:43.851512Z",
     "iopub.status.busy": "2025-05-19T15:37:43.851233Z",
     "iopub.status.idle": "2025-05-19T15:37:43.860475Z",
     "shell.execute_reply": "2025-05-19T15:37:43.859676Z",
     "shell.execute_reply.started": "2025-05-19T15:37:43.851495Z"
    },
    "trusted": true
   },
   "outputs": [],
   "source": [
    "def evaluate_models(examples, squad_model_system, general_model_system):\n",
    "    \"\"\"Simplified evaluation function - processes one example at a time\"\"\"\n",
    "    results = []\n",
    "    \n",
    "    for i, example in enumerate(tqdm(examples, desc=\"Evaluating\")):\n",
    "        # Get basic example information\n",
    "        question = example['question']\n",
    "        ground_truth = example['answer']\n",
    "        has_answer = example['has_answer']\n",
    "        \n",
    "        # Get answers from both models\n",
    "        squad_answer, squad_confidence = squad_model_system.get_answer_with_confidence(question, use_mmr=False, use_keywords=False)\n",
    "        general_answer, general_confidence = general_model_system.get_answer_with_confidence(question, use_mmr=False, use_keywords=False)\n",
    "        \n",
    "        # Process results based on whether question has an answer\n",
    "        if not has_answer:\n",
    "            # For unanswerable questions\n",
    "            squad_correct = \"I'm not confident\" in squad_answer.lower() or squad_confidence < squad_model_system.base_confidence_threshold\n",
    "            general_correct = \"I'm not confident\" in general_answer.lower() or general_confidence < general_model_system.base_confidence_threshold\n",
    "\n",
    "            result = {\n",
    "                'question': question,\n",
    "                'ground_truth': ground_truth,\n",
    "                'has_answer': has_answer,\n",
    "                'squad_model': {\n",
    "                    'answer': squad_answer,\n",
    "                    'confidence': squad_confidence,\n",
    "                    'correct': squad_correct,\n",
    "                    'metrics': {'f1': 1.0 if squad_correct else 0.0}\n",
    "                },\n",
    "                'general_model': {\n",
    "                    'answer': general_answer,\n",
    "                    'confidence': general_confidence,\n",
    "                    'correct': general_correct,\n",
    "                    'metrics': {'f1': 1.0 if general_correct else 0.0}\n",
    "                }\n",
    "            }\n",
    "        else:\n",
    "            # For answerable questions\n",
    "            squad_metrics = improved_compute_metrics(squad_answer, ground_truth) if squad_answer else {'f1': 0, 'bleu': 0, 'rouge1_f1': 0, 'rouge2_f1': 0, 'rougeL_f1': 0, 'semantic_similarity': 0, 'exact_match': 0}\n",
    "            general_metrics = improved_compute_metrics(general_answer, ground_truth) if general_answer else {'f1': 0, 'bleu': 0, 'rouge1_f1': 0, 'rouge2_f1': 0, 'rougeL_f1': 0, 'semantic_similarity': 0, 'exact_match': 0}\n",
    "            \n",
    "            result = {\n",
    "                'question': question,\n",
    "                'ground_truth': ground_truth,\n",
    "                'has_answer': has_answer,\n",
    "                'squad_model': {\n",
    "                    'answer': squad_answer,\n",
    "                    'confidence': squad_confidence,\n",
    "                    'metrics': squad_metrics\n",
    "                },\n",
    "                'general_model': {\n",
    "                    'answer': general_answer,\n",
    "                    'confidence': general_confidence,\n",
    "                    'metrics': general_metrics\n",
    "                }\n",
    "            }\n",
    "        \n",
    "        results.append(result)\n",
    "\n",
    "        squad_model_system.clear_history()\n",
    "        general_model_system.clear_history()\n",
    "        \n",
    "        # Save progress every 10 examples\n",
    "        if (i + 1) % 10 == 0:\n",
    "            with open('experiment_results_models_improved.json', 'w') as f:\n",
    "                json.dump(results, f, indent=2)\n",
    "    \n",
    "    # Save final results\n",
    "    with open('experiment_results_models_improved.json', 'w') as f:\n",
    "        json.dump(results, f, indent=2)\n",
    "    \n",
    "    return results"
   ]
  },
  {
   "cell_type": "code",
   "execution_count": 41,
   "metadata": {
    "execution": {
     "iopub.execute_input": "2025-05-19T14:50:39.931356Z",
     "iopub.status.busy": "2025-05-19T14:50:39.930976Z",
     "iopub.status.idle": "2025-05-19T14:51:19.189145Z",
     "shell.execute_reply": "2025-05-19T14:51:19.188209Z",
     "shell.execute_reply.started": "2025-05-19T14:50:39.931333Z"
    },
    "trusted": true
   },
   "outputs": [
    {
     "data": {
      "application/vnd.jupyter.widget-view+json": {
       "model_id": "af173bee520140df8234a2f331298094",
       "version_major": 2,
       "version_minor": 0
      },
      "text/plain": [
       "Evaluating:   0%|          | 0/100 [00:00<?, ?it/s]"
      ]
     },
     "metadata": {},
     "output_type": "display_data"
    },
    {
     "name": "stderr",
     "output_type": "stream",
     "text": [
      "You seem to be using the pipelines sequentially on GPU. In order to maximize efficiency please use a dataset\n"
     ]
    }
   ],
   "source": [
    "# Run experiments (uncomment to execute)\n",
    "experiment_results = evaluate_models(validation_examples, squad_model_system, general_model_system)"
   ]
  },
  {
   "cell_type": "code",
   "execution_count": null,
   "metadata": {
    "execution": {
     "iopub.status.busy": "2025-05-19T13:41:25.780346Z",
     "iopub.status.idle": "2025-05-19T13:41:25.780656Z",
     "shell.execute_reply": "2025-05-19T13:41:25.780515Z",
     "shell.execute_reply.started": "2025-05-19T13:41:25.780500Z"
    },
    "trusted": true
   },
   "outputs": [],
   "source": [
    "# Load results if already computed\n",
    "if os.path.exists('experiment_results_models_improved.json'):\n",
    "    with open('experiment_results_models_improved.json', 'r') as f:\n",
    "        experiment_results = json.load(f)\n",
    "    print(f\"Loaded {len(experiment_results)} experiment results\")"
   ]
  },
  {
   "cell_type": "markdown",
   "metadata": {},
   "source": [
    "## 11. Enhanced Results Analysis"
   ]
  },
  {
   "cell_type": "code",
   "execution_count": 42,
   "metadata": {
    "execution": {
     "iopub.execute_input": "2025-05-19T14:51:45.188539Z",
     "iopub.status.busy": "2025-05-19T14:51:45.187732Z",
     "iopub.status.idle": "2025-05-19T14:51:45.206916Z",
     "shell.execute_reply": "2025-05-19T14:51:45.206196Z",
     "shell.execute_reply.started": "2025-05-19T14:51:45.188511Z"
    },
    "trusted": true
   },
   "outputs": [],
   "source": [
    "def analyze_experiment_results(results):\n",
    "    \"\"\"Enhanced analysis of experiment results\"\"\"\n",
    "    # Initialize counters\n",
    "    total_examples = len(results)\n",
    "    answerable_examples = sum(1 for r in results if r['has_answer'])\n",
    "    unanswerable_examples = total_examples - answerable_examples\n",
    "    \n",
    "    # Initialize metric accumulators\n",
    "    metrics = {\n",
    "        'squad': defaultdict(list),\n",
    "        'general': defaultdict(list)\n",
    "    }\n",
    "    \n",
    "    # Analyze per question type\n",
    "    question_types = defaultdict(lambda: {'squad': [], 'general': []})\n",
    "    \n",
    "    # Error analysis categories\n",
    "    error_categories = {\n",
    "        'squad': defaultdict(int),\n",
    "        'general': defaultdict(int)\n",
    "    }\n",
    "    \n",
    "    # Collect metrics and errors for analysis\n",
    "    for result in results:\n",
    "        # Skip unanswerable questions for some analyses\n",
    "        if not result['has_answer']:\n",
    "            # Track no-answer detection accuracy\n",
    "            for model_key, model_name in [(\"squad_model\", \"squad\"), (\"general_model\", \"general\")]:\n",
    "                if result[model_key]['correct']:\n",
    "                    metrics[model_name]['no_answer_accuracy'].append(1)\n",
    "                else:\n",
    "                    metrics[model_name]['no_answer_accuracy'].append(0)\n",
    "                    error_categories[model_name]['false_positive'] += 1\n",
    "            continue\n",
    "        \n",
    "        # Determine question type\n",
    "        question = result['question'].lower()\n",
    "        q_type = 'other'\n",
    "        for prefix in ['what', 'who', 'when', 'where', 'why', 'how']:\n",
    "            if question.startswith(prefix):\n",
    "                q_type = prefix\n",
    "                break\n",
    "        \n",
    "        # Collect metrics by model\n",
    "        for model_key, model_name in [(\"squad_model\", \"squad\"), (\"general_model\", \"general\")]:\n",
    "            model_result = result[model_key]\n",
    "            model_metrics = model_result['metrics']\n",
    "            \n",
    "            # Track all metrics\n",
    "            for metric_name, metric_value in model_metrics.items():\n",
    "                metrics[model_name][metric_name].append(metric_value)\n",
    "            \n",
    "            # Track by question type\n",
    "            question_types[q_type][model_name].append(model_metrics['f1'])\n",
    "            \n",
    "            # Error analysis\n",
    "            if model_metrics['f1'] < 0.5:  # Consider it an error if F1 < 0.5\n",
    "                # Categorize error\n",
    "                answer = model_result['answer']\n",
    "                confidence = model_result['confidence']\n",
    "                \n",
    "                if 'not confident' in answer.lower():\n",
    "                    error_categories[model_name]['low_confidence'] += 1\n",
    "                elif confidence < 0.3:\n",
    "                    error_categories[model_name]['uncertain'] += 1\n",
    "                elif len(answer) < 3:\n",
    "                    error_categories[model_name]['too_short'] += 1\n",
    "                elif model_metrics['semantic_similarity'] > 0.7 and model_metrics['f1'] < 0.3:\n",
    "                    error_categories[model_name]['semantic_match_lexical_mismatch'] += 1\n",
    "                else:\n",
    "                    error_categories[model_name]['incorrect_extraction'] += 1\n",
    "    \n",
    "    # Calculate average metrics\n",
    "    squad_avg_metrics = {metric: np.mean(values) for metric, values in metrics['squad'].items() if values}\n",
    "    general_avg_metrics = {metric: np.mean(values) for metric, values in metrics['general'].items() if values}\n",
    "    \n",
    "    # Calculate question type performance\n",
    "    q_type_performance = {}\n",
    "    for q_type, models in question_types.items():\n",
    "        q_type_performance[q_type] = {\n",
    "            'squad': np.mean(models['squad']) if models['squad'] else 0,\n",
    "            'general': np.mean(models['general']) if models['general'] else 0,\n",
    "            'count': len(models['squad'])\n",
    "        }\n",
    "    \n",
    "    # Perform t-test to check if difference is statistically significant\n",
    "    import scipy.stats as stats\n",
    "    t_stat, p_value = stats.ttest_ind(metrics['squad']['f1'], metrics['general']['f1'], equal_var=False)\n",
    "    is_significant = p_value < 0.05\n",
    "    \n",
    "    # Print summary\n",
    "    print(f\"Total examples: {total_examples}\")\n",
    "    print(f\"Answerable questions: {answerable_examples}\")\n",
    "    print(f\"Unanswerable questions: {unanswerable_examples}\")\n",
    "    print(\"\\nAverage Metrics:\")\n",
    "    print(\"SQuAD Model:\")\n",
    "    for metric, value in squad_avg_metrics.items():\n",
    "        print(f\"  {metric}: {value:.4f}\")\n",
    "    print(\"\\nGeneral Model:\")\n",
    "    for metric, value in general_avg_metrics.items():\n",
    "        print(f\"  {metric}: {value:.4f}\")\n",
    "    \n",
    "    print(f\"\\nStatistical significance (F1 score): p-value = {p_value:.4f} {'(significant)' if is_significant else '(not significant)'}\")\n",
    "    \n",
    "    print(\"\\nPerformance by Question Type:\")\n",
    "    for q_type, perf in sorted(q_type_performance.items(), key=lambda x: x[1]['count'], reverse=True):\n",
    "        print(f\"  {q_type} ({perf['count']} questions): Squad F1 = {perf['squad']:.4f}, General F1 = {perf['general']:.4f}\")\n",
    "    \n",
    "    print(\"\\nError Analysis:\")\n",
    "    print(\"SQuAD Model Errors:\")\n",
    "    for category, count in sorted(error_categories['squad'].items(), key=lambda x: x[1], reverse=True):\n",
    "        print(f\"  {category}: {count} ({count/answerable_examples:.1%})\")\n",
    "    print(\"\\nGeneral Model Errors:\")\n",
    "    for category, count in sorted(error_categories['general'].items(), key=lambda x: x[1], reverse=True):\n",
    "        print(f\"  {category}: {count} ({count/answerable_examples:.1%})\")\n",
    "    \n",
    "    # Plot performance comparison\n",
    "    metrics_to_plot = ['f1', 'bleu', 'rouge1_f1', 'rougeL_f1', 'semantic_similarity']\n",
    "    \n",
    "    plt.figure(figsize=(12, 6))\n",
    "    x = np.arange(len(metrics_to_plot))\n",
    "    width = 0.35\n",
    "    \n",
    "    squad_values = [squad_avg_metrics.get(m, 0) for m in metrics_to_plot]\n",
    "    general_values = [general_avg_metrics.get(m, 0) for m in metrics_to_plot]\n",
    "    \n",
    "    plt.bar(x - width/2, squad_values, width, label='SQuAD Model')\n",
    "    plt.bar(x + width/2, general_values, width, label='General Model')\n",
    "    \n",
    "    plt.xticks(x, metrics_to_plot)\n",
    "    plt.ylabel('Score')\n",
    "    plt.title('Performance Comparison by Metric')\n",
    "    plt.legend()\n",
    "    plt.tight_layout()\n",
    "    plt.show()\n",
    "    \n",
    "    # Plot performance by question type\n",
    "    plt.figure(figsize=(12, 6))\n",
    "    q_types = [q for q, _ in sorted(q_type_performance.items(), key=lambda x: x[1]['count'], reverse=True)]\n",
    "    x = np.arange(len(q_types))\n",
    "    \n",
    "    squad_by_type = [q_type_performance[q]['squad'] for q in q_types]\n",
    "    general_by_type = [q_type_performance[q]['general'] for q in q_types]\n",
    "    \n",
    "    plt.bar(x - width/2, squad_by_type, width, label='SQuAD Model')\n",
    "    plt.bar(x + width/2, general_by_type, width, label='General Model')\n",
    "    \n",
    "    plt.xticks(x, q_types)\n",
    "    plt.ylabel('F1 Score')\n",
    "    plt.title('Performance by Question Type')\n",
    "    plt.legend()\n",
    "    plt.tight_layout()\n",
    "    plt.show()\n",
    "    \n",
    "    # Return calculated metrics for further use\n",
    "    return {\n",
    "        'overview': {\n",
    "            'total': total_examples,\n",
    "            'answerable': answerable_examples,\n",
    "            'unanswerable': unanswerable_examples\n",
    "        },\n",
    "        'metrics': {\n",
    "            'squad': squad_avg_metrics,\n",
    "            'general': general_avg_metrics\n",
    "        },\n",
    "        'by_question_type': q_type_performance,\n",
    "        'error_analysis': error_categories,\n",
    "        'statistical_significance': {\n",
    "            't_stat': t_stat,\n",
    "            'p_value': p_value,\n",
    "            'is_significant': is_significant\n",
    "        }\n",
    "    }\n"
   ]
  },
  {
   "cell_type": "code",
   "execution_count": 43,
   "metadata": {
    "execution": {
     "iopub.execute_input": "2025-05-19T14:51:54.582490Z",
     "iopub.status.busy": "2025-05-19T14:51:54.581746Z",
     "iopub.status.idle": "2025-05-19T14:51:55.017304Z",
     "shell.execute_reply": "2025-05-19T14:51:55.016480Z",
     "shell.execute_reply.started": "2025-05-19T14:51:54.582459Z"
    },
    "trusted": true
   },
   "outputs": [
    {
     "name": "stdout",
     "output_type": "stream",
     "text": [
      "Total examples: 100\n",
      "Answerable questions: 75\n",
      "Unanswerable questions: 25\n",
      "\n",
      "Average Metrics:\n",
      "SQuAD Model:\n",
      "  f1: 0.7236\n",
      "  bleu: 0.3557\n",
      "  rouge1_f1: 0.7128\n",
      "  rouge2_f1: 0.3584\n",
      "  rougeL_f1: 0.7128\n",
      "  semantic_similarity: 0.7691\n",
      "  exact_match: 0.5200\n",
      "  no_answer_accuracy: 0.6800\n",
      "\n",
      "General Model:\n",
      "  f1: 0.7234\n",
      "  bleu: 0.3797\n",
      "  rouge1_f1: 0.7090\n",
      "  rouge2_f1: 0.4054\n",
      "  rougeL_f1: 0.7090\n",
      "  semantic_similarity: 0.7848\n",
      "  exact_match: 0.5733\n",
      "  no_answer_accuracy: 0.0400\n",
      "\n",
      "Statistical significance (F1 score): p-value = 0.9982 (not significant)\n",
      "\n",
      "Performance by Question Type:\n",
      "  what (36 questions): Squad F1 = 0.7874, General F1 = 0.7127\n",
      "  other (22 questions): Squad F1 = 0.6571, General F1 = 0.7212\n",
      "  how (5 questions): Squad F1 = 0.7467, General F1 = 0.7467\n",
      "  when (4 questions): Squad F1 = 0.7500, General F1 = 1.0000\n",
      "  where (4 questions): Squad F1 = 0.7500, General F1 = 0.7500\n",
      "  who (3 questions): Squad F1 = 0.2444, General F1 = 0.3333\n",
      "  why (1 questions): Squad F1 = 1.0000, General F1 = 1.0000\n",
      "\n",
      "Error Analysis:\n",
      "SQuAD Model Errors:\n",
      "  uncertain: 11 (14.7%)\n",
      "  incorrect_extraction: 9 (12.0%)\n",
      "  false_positive: 8 (10.7%)\n",
      "\n",
      "General Model Errors:\n",
      "  false_positive: 24 (32.0%)\n",
      "  incorrect_extraction: 16 (21.3%)\n",
      "  uncertain: 4 (5.3%)\n"
     ]
    },
    {
     "data": {
      "image/png": "[encoded data removed]",
      "text/plain": [
       "<Figure size 1200x600 with 1 Axes>"
      ]
     },
     "metadata": {},
     "output_type": "display_data"
    },
    {
     "data": {
      "image/png": "[encoded data removed]",
      "text/plain": [
       "<Figure size 1200x600 with 1 Axes>"
      ]
     },
     "metadata": {},
     "output_type": "display_data"
    }
   ],
   "source": [
    "# Run enhanced analysis\n",
    "analysis_results = analyze_experiment_results(experiment_results)"
   ]
  },
  {
   "cell_type": "code",
   "execution_count": 44,
   "metadata": {
    "execution": {
     "iopub.execute_input": "2025-05-19T14:52:32.200081Z",
     "iopub.status.busy": "2025-05-19T14:52:32.199335Z",
     "iopub.status.idle": "2025-05-19T14:52:32.265018Z",
     "shell.execute_reply": "2025-05-19T14:52:32.263861Z",
     "shell.execute_reply.started": "2025-05-19T14:52:32.200055Z"
    },
    "trusted": true
   },
   "outputs": [
    {
     "ename": "TypeError",
     "evalue": "Object of type bool_ is not JSON serializable",
     "output_type": "error",
     "traceback": [
      "\u001b[0;31m---------------------------------------------------------------------------\u001b[0m",
      "\u001b[0;31mTypeError\u001b[0m                                 Traceback (most recent call last)",
      "\u001b[0;32m/tmp/ipykernel_408/3968937235.py\u001b[0m in \u001b[0;36m<cell line: 0>\u001b[0;34m()\u001b[0m\n\u001b[1;32m      1\u001b[0m \u001b[0;31m# Export analysis results\u001b[0m\u001b[0;34m\u001b[0m\u001b[0;34m\u001b[0m\u001b[0m\n\u001b[1;32m      2\u001b[0m \u001b[0;32mwith\u001b[0m \u001b[0mopen\u001b[0m\u001b[0;34m(\u001b[0m\u001b[0;34m'analysis_results_improved.json'\u001b[0m\u001b[0;34m,\u001b[0m \u001b[0;34m'w'\u001b[0m\u001b[0;34m)\u001b[0m \u001b[0;32mas\u001b[0m \u001b[0mf\u001b[0m\u001b[0;34m:\u001b[0m\u001b[0;34m\u001b[0m\u001b[0;34m\u001b[0m\u001b[0m\n\u001b[0;32m----> 3\u001b[0;31m     \u001b[0mjson\u001b[0m\u001b[0;34m.\u001b[0m\u001b[0mdump\u001b[0m\u001b[0;34m(\u001b[0m\u001b[0manalysis_results\u001b[0m\u001b[0;34m,\u001b[0m \u001b[0mf\u001b[0m\u001b[0;34m,\u001b[0m \u001b[0mindent\u001b[0m\u001b[0;34m=\u001b[0m\u001b[0;36m2\u001b[0m\u001b[0;34m)\u001b[0m\u001b[0;34m\u001b[0m\u001b[0;34m\u001b[0m\u001b[0m\n\u001b[0m",
      "\u001b[0;32m/usr/lib/python3.11/json/__init__.py\u001b[0m in \u001b[0;36mdump\u001b[0;34m(obj, fp, skipkeys, ensure_ascii, check_circular, allow_nan, cls, indent, separators, default, sort_keys, **kw)\u001b[0m\n\u001b[1;32m    177\u001b[0m     \u001b[0;31m# could accelerate with writelines in some versions of Python, at\u001b[0m\u001b[0;34m\u001b[0m\u001b[0;34m\u001b[0m\u001b[0m\n\u001b[1;32m    178\u001b[0m     \u001b[0;31m# a debuggability cost\u001b[0m\u001b[0;34m\u001b[0m\u001b[0;34m\u001b[0m\u001b[0m\n\u001b[0;32m--> 179\u001b[0;31m     \u001b[0;32mfor\u001b[0m \u001b[0mchunk\u001b[0m \u001b[0;32min\u001b[0m \u001b[0miterable\u001b[0m\u001b[0;34m:\u001b[0m\u001b[0;34m\u001b[0m\u001b[0;34m\u001b[0m\u001b[0m\n\u001b[0m\u001b[1;32m    180\u001b[0m         \u001b[0mfp\u001b[0m\u001b[0;34m.\u001b[0m\u001b[0mwrite\u001b[0m\u001b[0;34m(\u001b[0m\u001b[0mchunk\u001b[0m\u001b[0;34m)\u001b[0m\u001b[0;34m\u001b[0m\u001b[0;34m\u001b[0m\u001b[0m\n\u001b[1;32m    181\u001b[0m \u001b[0;34m\u001b[0m\u001b[0m\n",
      "\u001b[0;32m/usr/lib/python3.11/json/encoder.py\u001b[0m in \u001b[0;36m_iterencode\u001b[0;34m(o, _current_indent_level)\u001b[0m\n\u001b[1;32m    430\u001b[0m             \u001b[0;32myield\u001b[0m \u001b[0;32mfrom\u001b[0m \u001b[0m_iterencode_list\u001b[0m\u001b[0;34m(\u001b[0m\u001b[0mo\u001b[0m\u001b[0;34m,\u001b[0m \u001b[0m_current_indent_level\u001b[0m\u001b[0;34m)\u001b[0m\u001b[0;34m\u001b[0m\u001b[0;34m\u001b[0m\u001b[0m\n\u001b[1;32m    431\u001b[0m         \u001b[0;32melif\u001b[0m \u001b[0misinstance\u001b[0m\u001b[0;34m(\u001b[0m\u001b[0mo\u001b[0m\u001b[0;34m,\u001b[0m \u001b[0mdict\u001b[0m\u001b[0;34m)\u001b[0m\u001b[0;34m:\u001b[0m\u001b[0;34m\u001b[0m\u001b[0;34m\u001b[0m\u001b[0m\n\u001b[0;32m--> 432\u001b[0;31m             \u001b[0;32myield\u001b[0m \u001b[0;32mfrom\u001b[0m \u001b[0m_iterencode_dict\u001b[0m\u001b[0;34m(\u001b[0m\u001b[0mo\u001b[0m\u001b[0;34m,\u001b[0m \u001b[0m_current_indent_level\u001b[0m\u001b[0;34m)\u001b[0m\u001b[0;34m\u001b[0m\u001b[0;34m\u001b[0m\u001b[0m\n\u001b[0m\u001b[1;32m    433\u001b[0m         \u001b[0;32melse\u001b[0m\u001b[0;34m:\u001b[0m\u001b[0;34m\u001b[0m\u001b[0;34m\u001b[0m\u001b[0m\n\u001b[1;32m    434\u001b[0m             \u001b[0;32mif\u001b[0m \u001b[0mmarkers\u001b[0m \u001b[0;32mis\u001b[0m \u001b[0;32mnot\u001b[0m \u001b[0;32mNone\u001b[0m\u001b[0;34m:\u001b[0m\u001b[0;34m\u001b[0m\u001b[0;34m\u001b[0m\u001b[0m\n",
      "\u001b[0;32m/usr/lib/python3.11/json/encoder.py\u001b[0m in \u001b[0;36m_iterencode_dict\u001b[0;34m(dct, _current_indent_level)\u001b[0m\n\u001b[1;32m    404\u001b[0m                 \u001b[0;32melse\u001b[0m\u001b[0;34m:\u001b[0m\u001b[0;34m\u001b[0m\u001b[0;34m\u001b[0m\u001b[0m\n\u001b[1;32m    405\u001b[0m                     \u001b[0mchunks\u001b[0m \u001b[0;34m=\u001b[0m \u001b[0m_iterencode\u001b[0m\u001b[0;34m(\u001b[0m\u001b[0mvalue\u001b[0m\u001b[0;34m,\u001b[0m \u001b[0m_current_indent_level\u001b[0m\u001b[0;34m)\u001b[0m\u001b[0;34m\u001b[0m\u001b[0;34m\u001b[0m\u001b[0m\n\u001b[0;32m--> 406\u001b[0;31m                 \u001b[0;32myield\u001b[0m \u001b[0;32mfrom\u001b[0m \u001b[0mchunks\u001b[0m\u001b[0;34m\u001b[0m\u001b[0;34m\u001b[0m\u001b[0m\n\u001b[0m\u001b[1;32m    407\u001b[0m         \u001b[0;32mif\u001b[0m \u001b[0mnewline_indent\u001b[0m \u001b[0;32mis\u001b[0m \u001b[0;32mnot\u001b[0m \u001b[0;32mNone\u001b[0m\u001b[0;34m:\u001b[0m\u001b[0;34m\u001b[0m\u001b[0;34m\u001b[0m\u001b[0m\n\u001b[1;32m    408\u001b[0m             \u001b[0m_current_indent_level\u001b[0m \u001b[0;34m-=\u001b[0m \u001b[0;36m1\u001b[0m\u001b[0;34m\u001b[0m\u001b[0;34m\u001b[0m\u001b[0m\n",
      "\u001b[0;32m/usr/lib/python3.11/json/encoder.py\u001b[0m in \u001b[0;36m_iterencode_dict\u001b[0;34m(dct, _current_indent_level)\u001b[0m\n\u001b[1;32m    404\u001b[0m                 \u001b[0;32melse\u001b[0m\u001b[0;34m:\u001b[0m\u001b[0;34m\u001b[0m\u001b[0;34m\u001b[0m\u001b[0m\n\u001b[1;32m    405\u001b[0m                     \u001b[0mchunks\u001b[0m \u001b[0;34m=\u001b[0m \u001b[0m_iterencode\u001b[0m\u001b[0;34m(\u001b[0m\u001b[0mvalue\u001b[0m\u001b[0;34m,\u001b[0m \u001b[0m_current_indent_level\u001b[0m\u001b[0;34m)\u001b[0m\u001b[0;34m\u001b[0m\u001b[0;34m\u001b[0m\u001b[0m\n\u001b[0;32m--> 406\u001b[0;31m                 \u001b[0;32myield\u001b[0m \u001b[0;32mfrom\u001b[0m \u001b[0mchunks\u001b[0m\u001b[0;34m\u001b[0m\u001b[0;34m\u001b[0m\u001b[0m\n\u001b[0m\u001b[1;32m    407\u001b[0m         \u001b[0;32mif\u001b[0m \u001b[0mnewline_indent\u001b[0m \u001b[0;32mis\u001b[0m \u001b[0;32mnot\u001b[0m \u001b[0;32mNone\u001b[0m\u001b[0;34m:\u001b[0m\u001b[0;34m\u001b[0m\u001b[0;34m\u001b[0m\u001b[0m\n\u001b[1;32m    408\u001b[0m             \u001b[0m_current_indent_level\u001b[0m \u001b[0;34m-=\u001b[0m \u001b[0;36m1\u001b[0m\u001b[0;34m\u001b[0m\u001b[0;34m\u001b[0m\u001b[0m\n",
      "\u001b[0;32m/usr/lib/python3.11/json/encoder.py\u001b[0m in \u001b[0;36m_iterencode\u001b[0;34m(o, _current_indent_level)\u001b[0m\n\u001b[1;32m    437\u001b[0m                     \u001b[0;32mraise\u001b[0m \u001b[0mValueError\u001b[0m\u001b[0;34m(\u001b[0m\u001b[0;34m\"Circular reference detected\"\u001b[0m\u001b[0;34m)\u001b[0m\u001b[0;34m\u001b[0m\u001b[0;34m\u001b[0m\u001b[0m\n\u001b[1;32m    438\u001b[0m                 \u001b[0mmarkers\u001b[0m\u001b[0;34m[\u001b[0m\u001b[0mmarkerid\u001b[0m\u001b[0;34m]\u001b[0m \u001b[0;34m=\u001b[0m \u001b[0mo\u001b[0m\u001b[0;34m\u001b[0m\u001b[0;34m\u001b[0m\u001b[0m\n\u001b[0;32m--> 439\u001b[0;31m             \u001b[0mo\u001b[0m \u001b[0;34m=\u001b[0m \u001b[0m_default\u001b[0m\u001b[0;34m(\u001b[0m\u001b[0mo\u001b[0m\u001b[0;34m)\u001b[0m\u001b[0;34m\u001b[0m\u001b[0;34m\u001b[0m\u001b[0m\n\u001b[0m\u001b[1;32m    440\u001b[0m             \u001b[0;32myield\u001b[0m \u001b[0;32mfrom\u001b[0m \u001b[0m_iterencode\u001b[0m\u001b[0;34m(\u001b[0m\u001b[0mo\u001b[0m\u001b[0;34m,\u001b[0m \u001b[0m_current_indent_level\u001b[0m\u001b[0;34m)\u001b[0m\u001b[0;34m\u001b[0m\u001b[0;34m\u001b[0m\u001b[0m\n\u001b[1;32m    441\u001b[0m             \u001b[0;32mif\u001b[0m \u001b[0mmarkers\u001b[0m \u001b[0;32mis\u001b[0m \u001b[0;32mnot\u001b[0m \u001b[0;32mNone\u001b[0m\u001b[0;34m:\u001b[0m\u001b[0;34m\u001b[0m\u001b[0;34m\u001b[0m\u001b[0m\n",
      "\u001b[0;32m/usr/lib/python3.11/json/encoder.py\u001b[0m in \u001b[0;36mdefault\u001b[0;34m(self, o)\u001b[0m\n\u001b[1;32m    178\u001b[0m \u001b[0;34m\u001b[0m\u001b[0m\n\u001b[1;32m    179\u001b[0m         \"\"\"\n\u001b[0;32m--> 180\u001b[0;31m         raise TypeError(f'Object of type {o.__class__.__name__} '\n\u001b[0m\u001b[1;32m    181\u001b[0m                         f'is not JSON serializable')\n\u001b[1;32m    182\u001b[0m \u001b[0;34m\u001b[0m\u001b[0m\n",
      "\u001b[0;31mTypeError\u001b[0m: Object of type bool_ is not JSON serializable"
     ]
    }
   ],
   "source": [
    "# Export analysis results\n",
    "with open('analysis_results.json', 'w') as f:\n",
    "    json.dump(analysis_results, f, indent=2)"
   ]
  },
  {
   "cell_type": "markdown",
   "metadata": {},
   "source": [
    "## 12. Interactive Chat Demo"
   ]
  },
  {
   "cell_type": "code",
   "execution_count": 76,
   "metadata": {
    "execution": {
     "iopub.execute_input": "2025-05-19T15:45:08.035417Z",
     "iopub.status.busy": "2025-05-19T15:45:08.034829Z",
     "iopub.status.idle": "2025-05-19T15:45:08.049211Z",
     "shell.execute_reply": "2025-05-19T15:45:08.048344Z",
     "shell.execute_reply.started": "2025-05-19T15:45:08.035396Z"
    },
    "trusted": true
   },
   "outputs": [],
   "source": [
    "def highlight_text(text, keywords, color='gray'):\n",
    "    \"\"\"Highlight keywords in text for display in the chat interface\"\"\"\n",
    "    import html\n",
    "    \n",
    "    # Escape HTML\n",
    "    escaped_text = html.escape(text)\n",
    "    \n",
    "    # Highlight keywords with HTML\n",
    "    for keyword in keywords:\n",
    "        if not keyword or len(keyword) < 3:\n",
    "            continue\n",
    "            \n",
    "        # Highlight preserving case\n",
    "        pattern = re.compile(re.escape(keyword), re.IGNORECASE)\n",
    "        replacement = f'<span style=\"background-color: {color};\">{{}}</span>'\n",
    "        \n",
    "        def replace_match(match):\n",
    "            return replacement.format(match.group(0))\n",
    "            \n",
    "        escaped_text = pattern.sub(replace_match, escaped_text)\n",
    "    \n",
    "    return escaped_text\n",
    "\n",
    "def interactive_compare_models_chat():\n",
    "    \"\"\"Enhanced interactive chat demo comparing both models with visualization\"\"\"\n",
    "    print(\"Welcome to the Enhanced SQuAD RAG Chatbot!\")\n",
    "    print(\"Ask questions to compare both models, or type 'exit' to quit.\")\n",
    "    print(\"Available commands:\")\n",
    "    print(\"  'history' - Show conversation history\")\n",
    "    print(\"  'confidence' - Toggle showing confidence scores\")\n",
    "    print(\"  'context' - Toggle showing retrieved context\")\n",
    "    print(\"  'highlight' - Toggle highlighting keywords in context\")\n",
    "    print(\"  'exit' - Exit the chat\")\n",
    "    \n",
    "    # Initialize both systems\n",
    "    squad_system = RAGWithSQuADModel()\n",
    "    bert_system = RAGWithGeneralModel()\n",
    "    \n",
    "    # UI state\n",
    "    show_confidence = True\n",
    "    show_context = False\n",
    "    highlight_keywords = True\n",
    "    \n",
    "    while True:\n",
    "        question = input(\"\\nYou: \")\n",
    "        question = question.strip()\n",
    "        \n",
    "        if question.lower() == 'exit':\n",
    "            print(\"Goodbye!\")\n",
    "            break\n",
    "            \n",
    "        if question.lower() == 'history':\n",
    "            squad_history = squad_system.conversation_manager.get_conversation_context(include_confidence=show_confidence)\n",
    "            if squad_history:\n",
    "                print(\"\\nSQuAD Model Conversation History:\")\n",
    "                print(squad_history)\n",
    "            else:\n",
    "                print(\"No SQuAD model conversation history yet.\")\n",
    "            \n",
    "            bert_history = bert_system.conversation_manager.get_conversation_context(include_confidence=show_confidence)\n",
    "            if bert_history:\n",
    "                print(\"\\nBERT Model Conversation History:\")\n",
    "                print(bert_history)\n",
    "            else:\n",
    "                print(\"No BERT model conversation history yet.\")\n",
    "            continue\n",
    "        \n",
    "        if question.lower() == 'confidence':\n",
    "            show_confidence = not show_confidence\n",
    "            print(f\"Confidence scores {'will now be shown' if show_confidence else 'will not be shown'}\")\n",
    "            continue\n",
    "            \n",
    "        if question.lower() == 'context':\n",
    "            show_context = not show_context\n",
    "            print(f\"Context {'will now be shown' if show_context else 'will not be shown'}\")\n",
    "            continue\n",
    "        \n",
    "        if question.lower() == 'highlight':\n",
    "            highlight_keywords = not highlight_keywords\n",
    "            print(f\"Keyword highlighting {'enabled' if highlight_keywords else 'disabled'}\")\n",
    "            continue\n",
    "        \n",
    "        # Extract keywords for highlighting\n",
    "        keywords = extract_keywords(question) if highlight_keywords else []\n",
    "        \n",
    "        # Get contexts and answers from both systems\n",
    "        squad_context = retrieve_relevant_context(question, squad_system.conversation_manager)\n",
    "        bert_context = retrieve_relevant_context(question, bert_system.conversation_manager)\n",
    "        \n",
    "        # Get answers and confidence scores\n",
    "        squad_answer, squad_confidence = squad_system.get_answer_with_confidence(question)\n",
    "        bert_answer, bert_confidence = bert_system.get_answer_with_confidence(question)\n",
    "        \n",
    "        # Update conversation histories\n",
    "        squad_system.conversation_manager.add_interaction(question, squad_answer, squad_context, squad_confidence)\n",
    "        bert_system.conversation_manager.add_interaction(question, bert_answer, bert_context, bert_confidence)\n",
    "        \n",
    "        # Display results\n",
    "        print(\"\\n\" + \"=\"*80)\n",
    "        print(f\"SQuAD Model Answer: {squad_answer}\")\n",
    "        if show_confidence:\n",
    "            print(f\"Confidence: {squad_confidence:.4f}\")\n",
    "        \n",
    "        if show_context and squad_context:\n",
    "            print(\"\\nRetrieved Context:\")\n",
    "            if highlight_keywords and keywords:\n",
    "                # Show highlighted context using HTML\n",
    "                highlighted_context = highlight_text(squad_context[:700] + \"...\", keywords)\n",
    "                display(HTML(f\"<div style='background-color: #000000; padding: 10px; border-radius: 5px;'>{highlighted_context}</div>\"))\n",
    "            else:\n",
    "                print(f\"{squad_context[:700]}...\")\n",
    "        \n",
    "        print(\"\\n\" + \"-\"*80)\n",
    "        print(f\"BERT Model Answer: {bert_answer}\")\n",
    "        if show_confidence:\n",
    "            print(f\"Confidence: {bert_confidence:.4f}\")\n",
    "            \n",
    "        if show_context and bert_context:\n",
    "            print(\"\\nRetrieved Context:\")\n",
    "            if highlight_keywords and keywords:\n",
    "                # Show highlighted context using HTML\n",
    "                highlighted_context = highlight_text(bert_context[:700] + \"...\", keywords)\n",
    "                display(HTML(f\"<div style='background-color: #000000; padding: 10px; border-radius: 5px;'>{highlighted_context}</div>\"))\n",
    "            else:\n",
    "                print(f\"{bert_context[:700]}...\")\n",
    "                \n",
    "        print(\"=\"*80)\n",
    "        \n",
    "        # If answers are significantly different, analyze why\n",
    "        if squad_answer != bert_answer and 'not confident' not in squad_answer.lower() and 'not confident' not in bert_answer.lower():\n",
    "            # Calculate similarity\n",
    "            similarity = compute_semantic_similarity(squad_answer, bert_answer)\n",
    "            if similarity < 0.7:\n",
    "                print(\"\\nThe answers from the two models differ significantly.\")\n",
    "                print(f\"Semantic similarity between answers: {similarity:.4f}\")\n",
    "                \n",
    "                # Analyze possible reasons\n",
    "                reasons = []\n",
    "                \n",
    "                if abs(squad_confidence - bert_confidence) > 0.3:\n",
    "                    reasons.append(\"Significant difference in confidence scores\")\n",
    "                    \n",
    "                if squad_context != bert_context:\n",
    "                    reasons.append(\"Different contexts were retrieved for each model\")\n",
    "                    \n",
    "                # Special case: if one answer is very short\n",
    "                if len(squad_answer) < 5 or len(bert_answer) < 5:\n",
    "                    reasons.append(\"One model provided a very short answer\")\n",
    "                    \n",
    "                if reasons:\n",
    "                    print(\"Possible reasons for different answers:\")\n",
    "                    for i, reason in enumerate(reasons, 1):\n",
    "                        print(f\"  {i}. {reason}\")\n",
    "        \n",
    "    # Clear conversation histories when done\n",
    "    squad_system.clear_history()\n",
    "    bert_system.clear_history()"
   ]
  },
  {
   "cell_type": "code",
   "execution_count": 79,
   "metadata": {
    "execution": {
     "iopub.execute_input": "2025-05-19T15:46:08.499836Z",
     "iopub.status.busy": "2025-05-19T15:46:08.499131Z",
     "iopub.status.idle": "2025-05-19T15:46:26.681502Z",
     "shell.execute_reply": "2025-05-19T15:46:26.680838Z",
     "shell.execute_reply.started": "2025-05-19T15:46:08.499813Z"
    },
    "trusted": true
   },
   "outputs": [
    {
     "name": "stdout",
     "output_type": "stream",
     "text": [
      "Welcome to the Enhanced SQuAD RAG Chatbot!\n",
      "Ask questions to compare both models, or type 'exit' to quit.\n",
      "Available commands:\n",
      "  'history' - Show conversation history\n",
      "  'confidence' - Toggle showing confidence scores\n",
      "  'context' - Toggle showing retrieved context\n",
      "  'highlight' - Toggle highlighting keywords in context\n",
      "  'exit' - Exit the chat\n"
     ]
    },
    {
     "name": "stdout",
     "output_type": "stream",
     "text": [
      "\n",
      "You:  Who did Beyonce marry?\n"
     ]
    },
    {
     "name": "stdout",
     "output_type": "stream",
     "text": [
      "\n",
      "================================================================================\n",
      "SQuAD Model Answer: Jay Z\n",
      "Confidence: 0.9112\n",
      "\n",
      "--------------------------------------------------------------------------------\n",
      "BERT Model Answer: Jay Z\n",
      "Confidence: 0.9597\n",
      "================================================================================\n"
     ]
    },
    {
     "name": "stdout",
     "output_type": "stream",
     "text": [
      "\n",
      "You:  Together how records have they sold?\n"
     ]
    },
    {
     "name": "stdout",
     "output_type": "stream",
     "text": [
      "\n",
      "================================================================================\n",
      "SQuAD Model Answer: more than 300 million\n",
      "Confidence: 0.2415\n",
      "\n",
      "--------------------------------------------------------------------------------\n",
      "BERT Model Answer: 118 million\n",
      "Confidence: 0.1833\n",
      "================================================================================\n"
     ]
    },
    {
     "name": "stdout",
     "output_type": "stream",
     "text": [
      "\n",
      "You:  When did they get married?\n"
     ]
    },
    {
     "name": "stdout",
     "output_type": "stream",
     "text": [
      "\n",
      "================================================================================\n",
      "SQuAD Model Answer: April 4, 2008\n",
      "Confidence: 0.8201\n",
      "\n",
      "--------------------------------------------------------------------------------\n",
      "BERT Model Answer: April 4, 2008\n",
      "Confidence: 0.9385\n",
      "================================================================================\n"
     ]
    },
    {
     "name": "stdout",
     "output_type": "stream",
     "text": [
      "\n",
      "You:  exit\n"
     ]
    },
    {
     "name": "stdout",
     "output_type": "stream",
     "text": [
      "Goodbye!\n"
     ]
    }
   ],
   "source": [
    "interactive_compare_models_chat()"
   ]
  }
 ],
 "metadata": {
  "kaggle": {
   "accelerator": "gpu",
   "dataSources": [],
   "dockerImageVersionId": 31040,
   "isGpuEnabled": true,
   "isInternetEnabled": true,
   "language": "python",
   "sourceType": "notebook"
  },
  "kernelspec": {
   "display_name": "Python 3",
   "language": "python",
   "name": "python3"
  },
  "language_info": {
   "codemirror_mode": {
    "name": "ipython",
    "version": 3
   },
   "file_extension": ".py",
   "mimetype": "text/x-python",
   "name": "python",
   "nbconvert_exporter": "python",
   "pygments_lexer": "ipython3",
   "version": "3.11.11"
  }
 },
 "nbformat": 4,
 "nbformat_minor": 4
}
